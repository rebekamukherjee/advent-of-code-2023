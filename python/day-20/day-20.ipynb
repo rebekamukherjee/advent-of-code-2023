{
 "cells": [
  {
   "cell_type": "markdown",
   "metadata": {},
   "source": [
    "### --- Day 20: Pulse Propagation ---\n",
    "\n",
    "https://adventofcode.com/2023/day/20"
   ]
  },
  {
   "cell_type": "code",
   "execution_count": 67,
   "metadata": {},
   "outputs": [
    {
     "name": "stdout",
     "output_type": "stream",
     "text": [
      "The total number of pulses sent =  818723272\n"
     ]
    }
   ],
   "source": [
    "input_text = open('input.txt', 'r').read()\n",
    "input_text = input_text.split('\\n')\n",
    "broadcasters = {}\n",
    "flipflops = {}\n",
    "conjunctions = {}\n",
    "for line in input_text:\n",
    "    if line=='':\n",
    "        continue\n",
    "    broadcaster = line.split(' -> ')[0]\n",
    "    b = broadcaster[1:]\n",
    "    receivers = line.split(' -> ')[1].split(', ')\n",
    "    if broadcaster=='broadcaster':\n",
    "        broadcasters[broadcaster] = receivers\n",
    "    elif broadcaster.startswith('%'):\n",
    "        broadcasters[broadcaster[1:]] = receivers\n",
    "        flipflops[broadcaster[1:]] = 0\n",
    "    elif broadcaster.startswith('&'):\n",
    "        broadcasters[broadcaster[1:]] = receivers\n",
    "        conjunctions[broadcaster[1:]] = {}\n",
    "for key, values in broadcasters.items():\n",
    "    for value in values:\n",
    "        if value in conjunctions:\n",
    "            conjunctions[value][key] = 0\n",
    "low_pulses = 0\n",
    "high_pulses = 0\n",
    "for _ in range(1000):\n",
    "    queue = [('broadcaster', 0, 'button')]\n",
    "    while queue:\n",
    "        (receiver, signal, input) = queue.pop(0)\n",
    "        if signal:\n",
    "            high_pulses+=1\n",
    "        else:\n",
    "            low_pulses+=1\n",
    "        if receiver not in broadcasters:\n",
    "            continue\n",
    "        targets = broadcasters[receiver]\n",
    "        if receiver in flipflops:            \n",
    "            if not signal:                \n",
    "                if flipflops[receiver]:\n",
    "                    new_signal = 0\n",
    "                else:\n",
    "                    new_signal = 1\n",
    "                flipflops[receiver] = new_signal\n",
    "                for target in targets:\n",
    "                    queue.append((target, new_signal, receiver))\n",
    "        elif receiver in conjunctions:\n",
    "            conjunctions[receiver][input] = signal\n",
    "            if all(conjunctions[receiver].values()):\n",
    "                new_signal = 0\n",
    "            else:\n",
    "                new_signal = 1\n",
    "            for target in targets:\n",
    "                    queue.append((target, new_signal, receiver))\n",
    "        else:\n",
    "            for target in targets:\n",
    "                    queue.append((target, signal, receiver))\n",
    "total_pulses = low_pulses*high_pulses\n",
    "print(\"The total number of pulses sent = \", total_pulses)"
   ]
  },
  {
   "cell_type": "markdown",
   "metadata": {},
   "source": [
    "### --- Part Two ---"
   ]
  },
  {
   "cell_type": "code",
   "execution_count": 70,
   "metadata": {},
   "outputs": [
    {
     "name": "stdout",
     "output_type": "stream",
     "text": [
      "The fewest number of button presses required to deliver a single low pulse to the module named rx =  243902373381257\n"
     ]
    }
   ],
   "source": [
    "import math\n",
    "\n",
    "input_text = open('input.txt', 'r').read()\n",
    "input_text = input_text.split('\\n')\n",
    "broadcasters = {}\n",
    "flipflops = {}\n",
    "conjunctions = {}\n",
    "for line in input_text:\n",
    "    if line=='':\n",
    "        continue\n",
    "    broadcaster = line.split(' -> ')[0]\n",
    "    b = broadcaster[1:]\n",
    "    receivers = line.split(' -> ')[1].split(', ')\n",
    "    if broadcaster=='broadcaster':\n",
    "        broadcasters[broadcaster] = receivers\n",
    "    elif broadcaster.startswith('%'):\n",
    "        broadcasters[broadcaster[1:]] = receivers\n",
    "        flipflops[broadcaster[1:]] = 0\n",
    "    elif broadcaster.startswith('&'):\n",
    "        broadcasters[broadcaster[1:]] = receivers\n",
    "        conjunctions[broadcaster[1:]] = {}\n",
    "for key, values in broadcasters.items():\n",
    "    for value in values:\n",
    "        if value in conjunctions:\n",
    "            conjunctions[value][key] = 0\n",
    "lowest_buttons = {\n",
    "     'th': None,\n",
    "     'sv': None,\n",
    "     'gh': None,\n",
    "     'ch': None\n",
    "}\n",
    "button_cycle = 0\n",
    "while True:\n",
    "    if all(value is not None for value in lowest_buttons.values()):         \n",
    "         break\n",
    "    button_cycle+=1\n",
    "    queue = [('broadcaster', 0, 'button')]\n",
    "    while queue:\n",
    "        (receiver, signal, input) = queue.pop(0)\n",
    "        if receiver=='rx' and not signal:\n",
    "             break\n",
    "        if receiver in lowest_buttons and not signal:\n",
    "             lowest_buttons[receiver] = button_cycle        \n",
    "        if receiver not in broadcasters:\n",
    "            continue\n",
    "        targets = broadcasters[receiver]\n",
    "        if receiver in flipflops:            \n",
    "            if not signal:                \n",
    "                if flipflops[receiver]:\n",
    "                    new_signal = 0\n",
    "                else:\n",
    "                    new_signal = 1\n",
    "                flipflops[receiver] = new_signal\n",
    "                for target in targets:\n",
    "                    queue.append((target, new_signal, receiver))\n",
    "        elif receiver in conjunctions:\n",
    "            conjunctions[receiver][input] = signal\n",
    "            if all(conjunctions[receiver].values()):\n",
    "                new_signal = 0\n",
    "            else:\n",
    "                new_signal = 1\n",
    "            for target in targets:\n",
    "                    queue.append((target, new_signal, receiver))\n",
    "        else:\n",
    "            for target in targets:\n",
    "                    queue.append((target, signal, receiver))\n",
    "lowest_button_rx = math.lcm(*list(lowest_buttons.values()))\n",
    "print(\"The fewest number of button presses required to deliver a single low pulse to the module named rx = \", lowest_button_rx)"
   ]
  }
 ],
 "metadata": {
  "kernelspec": {
   "display_name": "advent-of-code-2023-urXzIf7u",
   "language": "python",
   "name": "python3"
  },
  "language_info": {
   "codemirror_mode": {
    "name": "ipython",
    "version": 3
   },
   "file_extension": ".py",
   "mimetype": "text/x-python",
   "name": "python",
   "nbconvert_exporter": "python",
   "pygments_lexer": "ipython3",
   "version": "3.12.0"
  }
 },
 "nbformat": 4,
 "nbformat_minor": 2
}
