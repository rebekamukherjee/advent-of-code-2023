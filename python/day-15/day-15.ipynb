{
 "cells": [
  {
   "cell_type": "markdown",
   "metadata": {},
   "source": [
    "### --- Day 15: Lens Library ---\n",
    "\n",
    "https://adventofcode.com/2023/day/15"
   ]
  },
  {
   "cell_type": "code",
   "execution_count": 51,
   "metadata": {},
   "outputs": [
    {
     "name": "stdout",
     "output_type": "stream",
     "text": [
      "The sum of results =  516804\n"
     ]
    }
   ],
   "source": [
    "def holday_ascii_string_helper_algorithm(str):\n",
    "    current_value = 0\n",
    "    for s in str:\n",
    "        ascii_value = ord(s)\n",
    "        current_value += ascii_value\n",
    "        current_value *= 17\n",
    "        current_value %= 256\n",
    "    return current_value\n",
    "\n",
    "input_text = open('input.txt', 'r').read().strip()\n",
    "initialization_sequence = input_text.split(',')\n",
    "results = []\n",
    "for sequence in initialization_sequence:\n",
    "    hash = holday_ascii_string_helper_algorithm(sequence)\n",
    "    results.append(hash)\n",
    "sum_results = sum(results)\n",
    "print (\"The sum of results = \", sum_results)"
   ]
  },
  {
   "cell_type": "markdown",
   "metadata": {},
   "source": [
    "### --- Part Two ---"
   ]
  },
  {
   "cell_type": "code",
   "execution_count": 53,
   "metadata": {},
   "outputs": [
    {
     "name": "stdout",
     "output_type": "stream",
     "text": [
      "The sum of focusing powers =  231844\n"
     ]
    }
   ],
   "source": [
    "import re\n",
    "\n",
    "hashmap = {}\n",
    "for sequence in initialization_sequence:\n",
    "    label = re.findall(r'[a-z]+', sequence)[0]\n",
    "    box_name = holday_ascii_string_helper_algorithm(label)\n",
    "    if '=' in sequence:\n",
    "        focal_length = int(re.findall(r'(\\d+)', sequence)[0])\n",
    "    if '-' in sequence:\n",
    "        if box_name in hashmap and label in hashmap[box_name]:\n",
    "            del hashmap[box_name][label]\n",
    "    elif '=' in sequence:\n",
    "        if box_name in hashmap:\n",
    "            hashmap[box_name][label] = focal_length\n",
    "        else:\n",
    "            hashmap[box_name] = {label: focal_length}\n",
    "focusing_powers = []\n",
    "for box_name in hashmap:\n",
    "    if len(hashmap[box_name])==0:\n",
    "        continue\n",
    "    slot = 1    \n",
    "    for label in hashmap[box_name]:\n",
    "        focusing_power = (box_name+1) * slot * hashmap[box_name][label]\n",
    "        focusing_powers.append(focusing_power)\n",
    "        slot += 1\n",
    "sum_focusing_powers = sum(focusing_powers)\n",
    "print (\"The sum of focusing powers = \", sum_focusing_powers)"
   ]
  }
 ],
 "metadata": {
  "kernelspec": {
   "display_name": "advent-of-code-2023-40H9lvEx",
   "language": "python",
   "name": "python3"
  },
  "language_info": {
   "codemirror_mode": {
    "name": "ipython",
    "version": 3
   },
   "file_extension": ".py",
   "mimetype": "text/x-python",
   "name": "python",
   "nbconvert_exporter": "python",
   "pygments_lexer": "ipython3",
   "version": "3.10.9"
  }
 },
 "nbformat": 4,
 "nbformat_minor": 2
}
