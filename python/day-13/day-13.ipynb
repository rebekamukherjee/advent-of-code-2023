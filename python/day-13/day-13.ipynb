{
 "cells": [
  {
   "cell_type": "markdown",
   "metadata": {},
   "source": [
    "### --- Day 13: Point of Incidence ---\n",
    "\n",
    "https://adventofcode.com/2023/day/13"
   ]
  },
  {
   "cell_type": "code",
   "execution_count": 1,
   "metadata": {},
   "outputs": [
    {
     "name": "stdout",
     "output_type": "stream",
     "text": [
      "The summarized note =  36041\n"
     ]
    }
   ],
   "source": [
    "def get_lines_before_mirror(board):\n",
    "    for line in range(len(board)):\n",
    "        if line==len(board)-1:\n",
    "            continue\n",
    "        distance_from_mirror = 0\n",
    "        flag = 0\n",
    "        for reflection in range(line+1, len(board)):\n",
    "            real = line-distance_from_mirror\n",
    "            distance_from_mirror += 1\n",
    "            if real<0:\n",
    "                continue\n",
    "            if board[reflection]!=board[real]:\n",
    "                flag = 1\n",
    "                continue\n",
    "        if flag == 0:\n",
    "            return line+1\n",
    "    return 0\n",
    "\n",
    "input_text = open('input.txt', 'r').read()\n",
    "input_text = input_text.split('\\n')\n",
    "all_pattern_boards = []\n",
    "pattern_board = []\n",
    "for line in input_text:\n",
    "    if line=='':\n",
    "        all_pattern_boards.append(pattern_board)\n",
    "        pattern_board = []\n",
    "    else:\n",
    "        pattern_board.append(list(line))\n",
    "total_rows = []\n",
    "total_cols = []\n",
    "for pattern_board in all_pattern_boards:\n",
    "    num_rows = get_lines_before_mirror(pattern_board)\n",
    "    total_rows.append(num_rows)\n",
    "    pattern_board_transposed = list(map(list, zip(*pattern_board)))\n",
    "    num_cols = get_lines_before_mirror(pattern_board_transposed)\n",
    "    total_cols.append(num_cols)\n",
    "summarized_note = sum(total_rows)*100 + sum(total_cols)\n",
    "print(\"The summarized note = \", summarized_note)\n"
   ]
  },
  {
   "cell_type": "markdown",
   "metadata": {},
   "source": [
    "### --- Part Two ---"
   ]
  },
  {
   "cell_type": "code",
   "execution_count": 2,
   "metadata": {},
   "outputs": [
    {
     "name": "stdout",
     "output_type": "stream",
     "text": [
      "The summarized note after removing smudges =  35915\n"
     ]
    }
   ],
   "source": [
    "def get_lines_before_mirror_p2(board):\n",
    "    for line in range(len(board)):\n",
    "        if line==len(board)-1:\n",
    "            continue\n",
    "        distance_from_mirror = 0\n",
    "        num_differences = 0\n",
    "        for reflection in range(line+1, len(board)):\n",
    "            real = line-distance_from_mirror\n",
    "            distance_from_mirror += 1\n",
    "            if real<0:\n",
    "                continue\n",
    "            if board[reflection]!=board[real]:\n",
    "                \n",
    "                for i in range(len(board[real])):\n",
    "                    if board[real][i]!=board[reflection][i]:\n",
    "                        num_differences+=1\n",
    "        if num_differences == 1:\n",
    "            return line+1\n",
    "    return 0\n",
    "\n",
    "total_rows = []\n",
    "total_cols = []\n",
    "for pattern_board in all_pattern_boards:\n",
    "    num_rows = get_lines_before_mirror_p2(pattern_board)\n",
    "    total_rows.append(num_rows)\n",
    "    pattern_board_transposed = list(map(list, zip(*pattern_board)))\n",
    "    num_cols = get_lines_before_mirror_p2(pattern_board_transposed)\n",
    "    total_cols.append(num_cols)\n",
    "summarized_note = sum(total_rows)*100 + sum(total_cols)\n",
    "print(\"The summarized note after removing smudges = \", summarized_note)"
   ]
  }
 ],
 "metadata": {
  "kernelspec": {
   "display_name": "advent-of-code-2023-40H9lvEx",
   "language": "python",
   "name": "python3"
  },
  "language_info": {
   "codemirror_mode": {
    "name": "ipython",
    "version": 3
   },
   "file_extension": ".py",
   "mimetype": "text/x-python",
   "name": "python",
   "nbconvert_exporter": "python",
   "pygments_lexer": "ipython3",
   "version": "3.10.9"
  }
 },
 "nbformat": 4,
 "nbformat_minor": 2
}
