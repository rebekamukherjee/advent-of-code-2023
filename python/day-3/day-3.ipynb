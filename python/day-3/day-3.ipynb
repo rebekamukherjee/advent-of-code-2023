{
 "cells": [
  {
   "cell_type": "markdown",
   "metadata": {},
   "source": [
    "### --- Day 3: Gear Ratios ---\n",
    "\n",
    "https://adventofcode.com/2023/day/3"
   ]
  },
  {
   "cell_type": "code",
   "execution_count": 1,
   "metadata": {},
   "outputs": [
    {
     "name": "stdout",
     "output_type": "stream",
     "text": [
      "Sum of valid part numbers =  535078\n"
     ]
    }
   ],
   "source": [
    "import re\n",
    "from string import punctuation\n",
    "symbols = punctuation.replace('.', '')\n",
    "input_text = open('input.txt', 'r').read()\n",
    "input_text = input_text.split('\\n')\n",
    "valid_part_numbers = []\n",
    "valid_part_number_details = []\n",
    "for row_num in range(len(input_text)):\n",
    "    line = input_text[row_num]\n",
    "    part_numbers = re.findall(r\"(\\d+)\", line)\n",
    "    prev_part_number_end_pos = 0\n",
    "    for part_number in part_numbers:\n",
    "        valid_symbol_pos_same_line = []\n",
    "        valid_symbol_pos_prev_line = []\n",
    "        valid_symbol_pos_next_line = []\n",
    "        start_pos = prev_part_number_end_pos+ re.search(part_number, line[prev_part_number_end_pos:]).start()        \n",
    "        end_pos = start_pos+len(part_number)-1\n",
    "        prev_part_number_end_pos = end_pos        \n",
    "        if start_pos!=0:\n",
    "            valid_symbol_pos_same_line.append(start_pos-1)\n",
    "        if end_pos!=(len(line)-1):\n",
    "            valid_symbol_pos_same_line.append(end_pos+1)\n",
    "        for char_pos in valid_symbol_pos_same_line:\n",
    "            if line[char_pos] in symbols:\n",
    "                valid_part_numbers.append(int(part_number))\n",
    "                if line[char_pos]=='*':\n",
    "                    valid_part_number_details.append([row_num, int(part_number), start_pos, end_pos])\n",
    "                continue\n",
    "        if row_num!=0:\n",
    "            prev_line = input_text[row_num-1]\n",
    "            if start_pos!=0:\n",
    "                valid_symbol_pos_prev_line.append(start_pos-1)\n",
    "            for pos in range(start_pos, end_pos+1):\n",
    "                valid_symbol_pos_prev_line.append(pos)            \n",
    "            if end_pos!=(len(prev_line)-1):\n",
    "                valid_symbol_pos_prev_line.append(end_pos+1)\n",
    "        for char_pos in valid_symbol_pos_prev_line:\n",
    "            if prev_line[char_pos] in symbols:\n",
    "                valid_part_numbers.append(int(part_number))\n",
    "                if prev_line[char_pos]=='*':\n",
    "                    valid_part_number_details.append([row_num, int(part_number), start_pos, end_pos])\n",
    "                continue\n",
    "        if row_num!=len(input_text)-1:\n",
    "            next_line = input_text[row_num+1]\n",
    "            if start_pos!=0:\n",
    "                valid_symbol_pos_next_line.append(start_pos-1)\n",
    "            for pos in range(start_pos, end_pos+1):\n",
    "                valid_symbol_pos_next_line.append(pos)            \n",
    "            if end_pos!=(len(next_line)-1):\n",
    "                valid_symbol_pos_next_line.append(end_pos+1)\n",
    "        for char_pos in valid_symbol_pos_next_line:\n",
    "            if next_line[char_pos] in symbols:\n",
    "                valid_part_numbers.append(int(part_number))\n",
    "                if next_line[char_pos]=='*':\n",
    "                    valid_part_number_details.append([row_num, int(part_number), start_pos, end_pos])\n",
    "                continue\n",
    "sum_valid_part_numbers = sum(valid_part_numbers)\n",
    "print(\"Sum of valid part numbers = \", sum_valid_part_numbers)\n"
   ]
  },
  {
   "cell_type": "markdown",
   "metadata": {},
   "source": [
    "### --- Part Two ---"
   ]
  },
  {
   "cell_type": "code",
   "execution_count": 2,
   "metadata": {},
   "outputs": [
    {
     "name": "stdout",
     "output_type": "stream",
     "text": [
      "Sum of gear ratios =  75312571\n"
     ]
    }
   ],
   "source": [
    "import pandas as pd\n",
    "valid_part_number_details = pd.DataFrame(valid_part_number_details, columns=['row_num', 'part_number', 'start_pos', 'end_pos'])\n",
    "gear_ratios = []\n",
    "for row_num in range(len(input_text)):\n",
    "    line = input_text[row_num]\n",
    "    all_star_positions = [m.start() for m in re.finditer('\\*', line)]\n",
    "    for pos_star in all_star_positions:\n",
    "        adjacent_to_star = []\n",
    "        # same line\n",
    "        all_parts_same_line = valid_part_number_details[valid_part_number_details['row_num']==row_num]\n",
    "        if len(all_parts_same_line)>0:\n",
    "            for part_number_id in range(len(all_parts_same_line)):\n",
    "                part_number = list(all_parts_same_line['part_number'])[part_number_id]\n",
    "                if pos_star == list(all_parts_same_line['start_pos'])[part_number_id]-1:\n",
    "                    adjacent_to_star.append(part_number)\n",
    "                if pos_star == list(all_parts_same_line['end_pos'])[part_number_id]+1:\n",
    "                    adjacent_to_star.append(part_number)\n",
    "        # prev line\n",
    "        if row_num!=0:\n",
    "            all_parts_prev_line = valid_part_number_details[valid_part_number_details['row_num']==row_num-1]\n",
    "            if len(all_parts_prev_line)>0:\n",
    "                for part_number_id in range(len(all_parts_prev_line)):\n",
    "                    part_number = list(all_parts_prev_line['part_number'])[part_number_id]\n",
    "                    if (pos_star >= list(all_parts_prev_line['start_pos'])[part_number_id]-1) and \\\n",
    "                        (pos_star <= list(all_parts_prev_line['end_pos'])[part_number_id]+1):\n",
    "                            adjacent_to_star.append(part_number)\n",
    "        # next line\n",
    "        if row_num!=len(input_text)-1:\n",
    "            all_parts_next_line = valid_part_number_details[valid_part_number_details['row_num']==row_num+1]\n",
    "            if len(all_parts_next_line)>0:\n",
    "                for part_number_id in range(len(all_parts_next_line)):\n",
    "                    part_number = list(all_parts_next_line['part_number'])[part_number_id]\n",
    "                    if (pos_star >= list(all_parts_next_line['start_pos'])[part_number_id]-1) and \\\n",
    "                        (pos_star <= list(all_parts_next_line['end_pos'])[part_number_id]+1):\n",
    "                            adjacent_to_star.append(part_number)\n",
    "        if len(adjacent_to_star)==2:\n",
    "            gear_1 = adjacent_to_star[0]\n",
    "            gear_2 = adjacent_to_star[1]\n",
    "            gear_ratio = gear_1*gear_2\n",
    "            gear_ratios.append(gear_ratio)\n",
    "sum_gear_ratios = sum(gear_ratios)\n",
    "print(\"Sum of gear ratios = \", sum_gear_ratios)"
   ]
  }
 ],
 "metadata": {
  "kernelspec": {
   "display_name": "advent-of-code-2023-Nog2JbGz",
   "language": "python",
   "name": "python3"
  },
  "language_info": {
   "codemirror_mode": {
    "name": "ipython",
    "version": 3
   },
   "file_extension": ".py",
   "mimetype": "text/x-python",
   "name": "python",
   "nbconvert_exporter": "python",
   "pygments_lexer": "ipython3",
   "version": "3.10.9"
  }
 },
 "nbformat": 4,
 "nbformat_minor": 2
}
