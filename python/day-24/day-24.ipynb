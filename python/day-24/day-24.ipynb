{
 "cells": [
  {
   "cell_type": "markdown",
   "metadata": {},
   "source": [
    "### --- Day 24: Never Tell Me The Odds ---\n",
    "\n",
    "https://adventofcode.com/2023/day/24"
   ]
  },
  {
   "cell_type": "code",
   "execution_count": 1,
   "metadata": {},
   "outputs": [
    {
     "name": "stdout",
     "output_type": "stream",
     "text": [
      "The number of intersections that occur within the test area =  27732\n"
     ]
    }
   ],
   "source": [
    "from itertools import combinations\n",
    "\n",
    "input_text = open('input.txt', 'r').read()\n",
    "input_text = input_text.split('\\n')\n",
    "hailstones = []\n",
    "for line in input_text:\n",
    "    if line=='':\n",
    "        continue\n",
    "    position = tuple([int (x) for x in line.split('@')[0].split(',')])\n",
    "    velocity = tuple([int (x) for x in line.split('@')[1].split(',')])\n",
    "    hailstones.append([position, velocity])\n",
    "test_area_min = 200000000000000\n",
    "test_area_max = 400000000000000\n",
    "valid_intersections = 0\n",
    "for hail1, hail2 in combinations(hailstones, 2):\n",
    "    px1, py1, pz1 = hail1[0]\n",
    "    vx1, vy1, vz1 = hail1[1]\n",
    "    px2, py2, pz2 = hail2[0]\n",
    "    vx2, vy2, vz2 = hail2[1]\n",
    "    if vy1 * vx2==vy2 * vx1:\n",
    "        continue\n",
    "    t1 = (vy2 * (px1 - px2) - vx2 * (py1 - py2)) / (vy1 * vx2 - vy2 * vx1)\n",
    "    t2 = (vy1 * (px2 - px1) - vx1 * (py2 - py1)) / (vy2 * vx1 - vy1 * vx2)\n",
    "    if t1 < 0 or t2 < 0:\n",
    "        continue\n",
    "    ix = px1 + t1 * vx1\n",
    "    iy = py1 + t1 * vy1\n",
    "    if ix >= test_area_min and ix <= test_area_max and iy >= test_area_min and iy <= test_area_max:\n",
    "         valid_intersections += 1\n",
    "print(\"The number of intersections that occur within the test area = \", valid_intersections)"
   ]
  },
  {
   "cell_type": "markdown",
   "metadata": {},
   "source": [
    "### --- Part Two ---"
   ]
  },
  {
   "cell_type": "code",
   "execution_count": 2,
   "metadata": {},
   "outputs": [
    {
     "name": "stdout",
     "output_type": "stream",
     "text": [
      "The sum of the X, Y, and Z coordinates of the initial position =  641619849766168\n"
     ]
    }
   ],
   "source": [
    "import sympy as sym\n",
    "    \n",
    "a = [[h[0][0], h[0][1], h[0][2]] for h in hailstones[:4]]\n",
    "b = [[h[1][0], h[1][1], h[1][2]] for h in hailstones[:4]]\n",
    "t0, t1, t2, t3, l1, l2 = sym.symbols('t0, t1, t2, t3, l1, l2')\n",
    "eqs = [sym.Eq((a[2][i] - a[0][i]) + t2 * b[2][i] - t0 * b[0][i], l1 * ((a[1][i] - a[0][i]) + t1 * b[1][i] - t0 * b[0][i])) for i in range(3)]\n",
    "eqs += [sym.Eq((a[3][i] - a[0][i]) + t3 * b[3][i] - t0 * b[0][i], l2 * ((a[1][i] - a[0][i]) + t1 * b[1][i] - t0 * b[0][i])) for i in range(3)]\n",
    "s = sym.solve(eqs, [t0, t1, t2, t3, l1, l2])[0]\n",
    "rock = [(s[1] * (a[0][i] + s[0] * b[0][i]) - s[0] * (a[1][i] + s[1] * b[1][i])) / (s[1] - s[0]) for i in [0, 1, 2]]\n",
    "sum_initial_position = sum(rock)\n",
    "print(\"The sum of the X, Y, and Z coordinates of the initial position = \", sum_initial_position)"
   ]
  }
 ],
 "metadata": {
  "kernelspec": {
   "display_name": "advent-of-code-2023-urXzIf7u",
   "language": "python",
   "name": "python3"
  },
  "language_info": {
   "codemirror_mode": {
    "name": "ipython",
    "version": 3
   },
   "file_extension": ".py",
   "mimetype": "text/x-python",
   "name": "python",
   "nbconvert_exporter": "python",
   "pygments_lexer": "ipython3",
   "version": "3.12.0"
  }
 },
 "nbformat": 4,
 "nbformat_minor": 2
}
