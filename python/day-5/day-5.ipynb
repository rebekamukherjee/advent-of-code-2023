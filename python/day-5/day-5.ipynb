{
 "cells": [
  {
   "cell_type": "markdown",
   "metadata": {},
   "source": [
    "### --- Day 5: If You Give A Seed A Fertilizer ---\n",
    "\n",
    "https://adventofcode.com/2023/day/5"
   ]
  },
  {
   "cell_type": "code",
   "execution_count": 121,
   "metadata": {},
   "outputs": [
    {
     "name": "stdout",
     "output_type": "stream",
     "text": [
      "The lowest location number that corresponds to any of the initial seed numbers =  173706076\n"
     ]
    }
   ],
   "source": [
    "import re\n",
    "\n",
    "def get_destination_from_source(source, map):\n",
    "    for i in range(len(map)):\n",
    "        destination_range_start = map[i][0]\n",
    "        source_range_start = map[i][1]\n",
    "        range_length = map[i][2]\n",
    "        if source >= source_range_start and source < source_range_start + range_length:\n",
    "            return destination_range_start + source - source_range_start\n",
    "    return source\n",
    "\n",
    "input_text = open('input.txt', 'r').read()\n",
    "input_text = input_text.split('\\n')\n",
    "map_names = [\n",
    "    'seed-to-soil map',\n",
    "    'soil-to-fertilizer map',\n",
    "    'fertilizer-to-water map',\n",
    "    'water-to-light map',\n",
    "    'light-to-temperature map',\n",
    "    'temperature-to-humidity map',\n",
    "    'humidity-to-location map'\n",
    "]\n",
    "almanac_maps = {}\n",
    "for name in map_names:\n",
    "    almanac_maps[name] = []\n",
    "key = ''\n",
    "for line in input_text:\n",
    "    if 'seeds:' in line:\n",
    "        initial_seeds = [int(x) for x in re.findall(r\"(\\d+)\", line)]\n",
    "        continue\n",
    "    if line=='':\n",
    "        continue\n",
    "    if line.replace(':', '') in map_names:\n",
    "        key = line.replace(':', '')\n",
    "        continue\n",
    "    if key!='':\n",
    "        almanac_maps[key].append([int(x) for x in line.split()])\n",
    "seed_to_location_dict = {}\n",
    "for seed in initial_seeds:\n",
    "    source = seed\n",
    "    for name in map_names:\n",
    "        source = get_destination_from_source(source=source, map=almanac_maps[name])\n",
    "    seed_to_location_dict[seed] = source\n",
    "lowest_location_number = min(seed_to_location_dict.values())\n",
    "print(\"The lowest location number that corresponds to any of the initial seed numbers = \", lowest_location_number)"
   ]
  },
  {
   "cell_type": "markdown",
   "metadata": {},
   "source": [
    "### --- Part Two ---"
   ]
  },
  {
   "cell_type": "code",
   "execution_count": 129,
   "metadata": {},
   "outputs": [
    {
     "name": "stdout",
     "output_type": "stream",
     "text": [
      "The lowest location number that corresponds to the new ranges of seed numbers =  11611182\n"
     ]
    }
   ],
   "source": [
    "import sys\n",
    "\n",
    "def get_source_from_destination(destination, map):\n",
    "    for i in range(len(map)):\n",
    "        destination_range_start = map[i][0]\n",
    "        source_range_start = map[i][1]\n",
    "        range_length = map[i][2]\n",
    "        if destination >= destination_range_start and destination < destination_range_start + range_length:\n",
    "            return source_range_start + destination - destination_range_start\n",
    "    return destination\n",
    "\n",
    "seed_ranges = []\n",
    "for even_numbers in range(0, len(initial_seeds), 2):\n",
    "    start_seed = initial_seeds[even_numbers]\n",
    "    end_seed = initial_seeds[even_numbers+1]\n",
    "    seed_ranges.append([start_seed, end_seed])\n",
    "\n",
    "for i in range(0, sys.maxsize, 1000):\n",
    "    location = i\n",
    "    for name in list(reversed(map_names)):\n",
    "        location = get_source_from_destination(destination=location, map=almanac_maps[name])\n",
    "    for seed_range in seed_ranges:\n",
    "        if location >= seed_range[0] and location < seed_range[0] + seed_range[1]:\n",
    "            first_iteration = i\n",
    "            break\n",
    "    else:\n",
    "        continue\n",
    "    break\n",
    "\n",
    "for i in range(first_iteration - 1000, first_iteration + 1):\n",
    "    location = i\n",
    "    for name in list(reversed(map_names)):\n",
    "        location = get_source_from_destination(destination=location, map=almanac_maps[name])\n",
    "    for seed_range in seed_ranges:\n",
    "        if location >= seed_range[0] and location < seed_range[0] + seed_range[1]:\n",
    "            lowest_location_number = i\n",
    "            break\n",
    "    else:\n",
    "        continue\n",
    "    break\n",
    "\n",
    "print(\"The lowest location number that corresponds to the new ranges of seed numbers = \", lowest_location_number)"
   ]
  }
 ],
 "metadata": {
  "kernelspec": {
   "display_name": "advent-of-code-2023-40H9lvEx",
   "language": "python",
   "name": "python3"
  },
  "language_info": {
   "codemirror_mode": {
    "name": "ipython",
    "version": 3
   },
   "file_extension": ".py",
   "mimetype": "text/x-python",
   "name": "python",
   "nbconvert_exporter": "python",
   "pygments_lexer": "ipython3",
   "version": "3.10.9"
  }
 },
 "nbformat": 4,
 "nbformat_minor": 2
}
