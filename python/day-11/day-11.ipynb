{
 "cells": [
  {
   "cell_type": "markdown",
   "metadata": {},
   "source": [
    "### --- Day 11: Cosmic Expansion ---\n",
    "\n",
    "https://adventofcode.com/2023/day/11"
   ]
  },
  {
   "cell_type": "code",
   "execution_count": 51,
   "metadata": {},
   "outputs": [
    {
     "name": "stdout",
     "output_type": "stream",
     "text": [
      "The sum of the shortest path between every pair of galaxies =  374\n"
     ]
    }
   ],
   "source": [
    "import re\n",
    "\n",
    "input_text = open('input.txt', 'r').read()\n",
    "input_text = input_text.split('\\n')\n",
    "galaxy_board = []\n",
    "for line in input_text:\n",
    "    if line == '':\n",
    "        continue\n",
    "    num_galaxies = re.findall(r'#+', line)\n",
    "    row = list(line)\n",
    "    galaxy_board.append(row)\n",
    "    if len(num_galaxies)==0:\n",
    "        galaxy_board.append(row)\n",
    "galaxy_board_transposed = []\n",
    "for col in list(map(list, zip(*galaxy_board))):\n",
    "    line = ''.join(col)\n",
    "    num_galaxies = re.findall(r'#+', line)\n",
    "    column = list(line)\n",
    "    galaxy_board_transposed.append(column)\n",
    "    if len(num_galaxies)==0:\n",
    "        galaxy_board_transposed.append(column)\n",
    "galaxy_board = list(map(list, zip(*galaxy_board_transposed)))\n",
    "galaxy_locations = []\n",
    "for i in range(len(galaxy_board)):\n",
    "    for j in range(len(galaxy_board[0])):\n",
    "        if galaxy_board[i][j] == '#':\n",
    "            galaxy_locations.append((i,j))\n",
    "shortest_paths = []\n",
    "for i in range(len(galaxy_locations)):\n",
    "    row1, col1 = galaxy_locations[i]\n",
    "    for j in range(i+1, len(galaxy_locations)):\n",
    "        row2, col2 = galaxy_locations[j]\n",
    "        shortest_path = abs(row1-row2) + abs(col1-col2)\n",
    "        shortest_paths.append(shortest_path)\n",
    "sum_shortest_paths = sum(shortest_paths)\n",
    "print(\"The sum of the shortest path between every pair of galaxies = \", sum_shortest_paths)\n"
   ]
  },
  {
   "cell_type": "markdown",
   "metadata": {},
   "source": [
    "### --- Part Two ---"
   ]
  },
  {
   "cell_type": "code",
   "execution_count": 112,
   "metadata": {},
   "outputs": [
    {
     "name": "stdout",
     "output_type": "stream",
     "text": [
      "The sum of the shortest path between every pair of galaxies =  842645913794\n"
     ]
    }
   ],
   "source": [
    "EXPANSION_NUMBER = 1000000-1\n",
    "\n",
    "input_text = open('input.txt', 'r').read()\n",
    "input_text = input_text.split('\\n')\n",
    "empty_rows = []\n",
    "empty_columns = []\n",
    "galaxy_board = []\n",
    "for r in range(len(input_text)):\n",
    "    line = input_text[r]\n",
    "    if line == '':\n",
    "        continue\n",
    "    num_galaxies = re.findall(r'#+', line)\n",
    "    row = list(line)\n",
    "    galaxy_board.append(row)\n",
    "    if len(num_galaxies)==0:\n",
    "        empty_rows.append(r)\n",
    "galaxy_board_transposed = list(map(list, zip(*galaxy_board)))\n",
    "for c in range(len(galaxy_board_transposed)):\n",
    "    col = galaxy_board_transposed[c]\n",
    "    line = ''.join(col)\n",
    "    num_galaxies = re.findall(r'#+', line)\n",
    "    if len(num_galaxies)==0:\n",
    "        empty_columns.append(c)\n",
    "row_expansion_mapping = {}\n",
    "expansion_counter = 0\n",
    "empty_row_index = 0\n",
    "for i in range(len(galaxy_board)):\n",
    "    empty_row = empty_rows[empty_row_index]\n",
    "    if i >= empty_row and empty_row_index!=-1:\n",
    "        expansion_counter+=EXPANSION_NUMBER\n",
    "        if empty_row_index<len(empty_rows)-1:\n",
    "            empty_row_index+=1\n",
    "        else:\n",
    "            empty_row_index = -1\n",
    "    row_expansion_mapping[i] = expansion_counter+i\n",
    "col_expansion_mapping = {}\n",
    "expansion_counter = 0\n",
    "empty_col_index = 0\n",
    "for i in range(len(galaxy_board[0])):\n",
    "    empty_col = empty_columns[empty_col_index]\n",
    "    if i >= empty_col and empty_col_index!=-1:\n",
    "        expansion_counter+=EXPANSION_NUMBER\n",
    "        if empty_col_index<len(empty_columns)-1:\n",
    "            empty_col_index+=1\n",
    "        else:\n",
    "            empty_col_index = -1\n",
    "    col_expansion_mapping[i] = expansion_counter+i    \n",
    "galaxy_locations = []\n",
    "for i in range(len(galaxy_board)):\n",
    "    for j in range(len(galaxy_board[0])):\n",
    "        if galaxy_board[i][j] == '#':\n",
    "            galaxy_locations.append((i,j))\n",
    "new_galaxy_locations = []\n",
    "for row, col in galaxy_locations:\n",
    "    new_row = row_expansion_mapping[row]\n",
    "    new_col = col_expansion_mapping[col]\n",
    "    new_galaxy_locations.append((new_row, new_col))\n",
    "shortest_paths = []\n",
    "for i in range(len(new_galaxy_locations)):\n",
    "    row1, col1 = new_galaxy_locations[i]\n",
    "    for j in range(i+1, len(new_galaxy_locations)):\n",
    "        row2, col2 = new_galaxy_locations[j]\n",
    "        shortest_path = abs(row1-row2) + abs(col1-col2)\n",
    "        shortest_paths.append(shortest_path)\n",
    "sum_shortest_paths = sum(shortest_paths)\n",
    "print(\"The sum of the shortest path between every pair of galaxies = \", sum_shortest_paths)"
   ]
  }
 ],
 "metadata": {
  "kernelspec": {
   "display_name": "advent-of-code-2023-40H9lvEx",
   "language": "python",
   "name": "python3"
  },
  "language_info": {
   "codemirror_mode": {
    "name": "ipython",
    "version": 3
   },
   "file_extension": ".py",
   "mimetype": "text/x-python",
   "name": "python",
   "nbconvert_exporter": "python",
   "pygments_lexer": "ipython3",
   "version": "3.10.9"
  }
 },
 "nbformat": 4,
 "nbformat_minor": 2
}
