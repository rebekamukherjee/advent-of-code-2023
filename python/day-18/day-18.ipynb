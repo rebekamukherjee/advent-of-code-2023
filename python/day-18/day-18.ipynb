{
 "cells": [
  {
   "cell_type": "markdown",
   "metadata": {},
   "source": [
    "### --- Day 18: Lavaduct Lagoon ---\n",
    "\n",
    "https://adventofcode.com/2023/day/18"
   ]
  },
  {
   "cell_type": "code",
   "execution_count": 1,
   "metadata": {},
   "outputs": [
    {
     "name": "stdout",
     "output_type": "stream",
     "text": [
      "The number of cubic meters of lava the lagoon can hold =  72821\n"
     ]
    }
   ],
   "source": [
    "import numpy as np\n",
    "\n",
    "def shoelace_formula(vertices_x, vertices_y):\n",
    "    \"\"\" Function to find the area of a simple polygon given the coordinates of its vertices\n",
    "    \"\"\"\n",
    "    vertices_x = np.array(vertices_x, dtype='int64')\n",
    "    vertices_y = np.array(vertices_y, dtype='int64')\n",
    "    return 0.5 * np.abs(np.dot(vertices_x, np.roll(vertices_y, 1)) - np.dot(vertices_y, np.roll(vertices_x, 1)))\n",
    "\n",
    "def picks_formula(vertices_x, vertices_y, boundary):\n",
    "    \"\"\" Function to find area of a simple polygon, all of whose vertices are lattice points in a coordinate plane\n",
    "    \"\"\"\n",
    "    A = shoelace_formula(vertices_x, vertices_y)    # area of polygon\n",
    "    B = len(boundary)    # boundary lattice points\n",
    "    I = A - B//2 + 1    # interrior lattice points\n",
    "    return int(I+B)\n",
    "\n",
    "\n",
    "input_text = open('input.txt', 'r').read()\n",
    "input_text = input_text.split('\\n')\n",
    "position = (0,0)\n",
    "boundary = {position}\n",
    "vertices_x = []\n",
    "vertices_y = []\n",
    "directions = {'L': (0, -1), 'R': (0, 1), 'U': (1, 0), 'D': (-1, 0)}\n",
    "for line in input_text:\n",
    "    if line=='':\n",
    "        continue\n",
    "    direction, num_cubes, color = line.split()\n",
    "    for i in range(int(num_cubes)):\n",
    "        position = (position[0]+directions[direction][0], position[1]+directions[direction][1])\n",
    "        boundary.add(position)\n",
    "    vertices_x.append(position[0])\n",
    "    vertices_y.append(position[1])\n",
    "lagoon_volume = picks_formula(vertices_x=vertices_x, vertices_y=vertices_y, boundary=boundary)\n",
    "print(\"The number of cubic meters of lava the lagoon can hold = \", lagoon_volume)"
   ]
  },
  {
   "cell_type": "markdown",
   "metadata": {},
   "source": [
    "### --- Part Two ---"
   ]
  },
  {
   "cell_type": "code",
   "execution_count": 2,
   "metadata": {},
   "outputs": [
    {
     "name": "stdout",
     "output_type": "stream",
     "text": [
      "The number of cubic meters of lava the lagoon can hold =  127844509405501\n"
     ]
    }
   ],
   "source": [
    "position = (0,0)\n",
    "boundary = {position}\n",
    "vertices_x = []\n",
    "vertices_y = []\n",
    "directions = {'L': (0, -1), 'R': (0, 1), 'U': (1, 0), 'D': (-1, 0)}\n",
    "digit_to_direction = {0: 'R', 1: 'D', 2: 'L', 3: 'U'}\n",
    "for line in input_text:\n",
    "    if line=='':\n",
    "        continue\n",
    "    hex = line.split()[2]\n",
    "    direction = digit_to_direction[int(hex[7])]\n",
    "    num_cubes = int(hex[2:7], 16)\n",
    "    for i in range(int(num_cubes)):\n",
    "        position = (position[0]+directions[direction][0], position[1]+directions[direction][1])\n",
    "        boundary.add(position)\n",
    "    vertices_x.append(position[0])\n",
    "    vertices_y.append(position[1])\n",
    "lagoon_volume = picks_formula(vertices_x=vertices_x, vertices_y=vertices_y, boundary=boundary)\n",
    "print(\"The number of cubic meters of lava the lagoon can hold = \", lagoon_volume)"
   ]
  }
 ],
 "metadata": {
  "kernelspec": {
   "display_name": "advent-of-code-2023-urXzIf7u",
   "language": "python",
   "name": "python3"
  },
  "language_info": {
   "codemirror_mode": {
    "name": "ipython",
    "version": 3
   },
   "file_extension": ".py",
   "mimetype": "text/x-python",
   "name": "python",
   "nbconvert_exporter": "python",
   "pygments_lexer": "ipython3",
   "version": "3.12.0"
  }
 },
 "nbformat": 4,
 "nbformat_minor": 2
}
