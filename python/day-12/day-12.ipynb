{
 "cells": [
  {
   "cell_type": "markdown",
   "metadata": {},
   "source": [
    "### --- Day 12: Hot Springs ---\n",
    "\n",
    "https://adventofcode.com/2023/day/12"
   ]
  },
  {
   "cell_type": "code",
   "execution_count": 1,
   "metadata": {},
   "outputs": [
    {
     "name": "stdout",
     "output_type": "stream",
     "text": [
      "The sum of the counts of all the different arrangements of operational and broken springs =  7191\n"
     ]
    }
   ],
   "source": [
    "from functools import cache\n",
    "\n",
    "@cache\n",
    "def get_arrangements(sequence, sequence_index, counts, counts_index, cursor):\n",
    "    if sequence_index==len(sequence):\n",
    "        if (counts_index==len(counts)-1 and counts[counts_index]==cursor) or (counts_index==len(counts) and cursor==0):\n",
    "            return 1\n",
    "        return 0\n",
    "    result = 0\n",
    "    if sequence[sequence_index] in '#?':\n",
    "        result += get_arrangements(sequence, sequence_index+1, counts, counts_index, cursor+1)\n",
    "    if sequence[sequence_index] in '.?':\n",
    "        if cursor==0:\n",
    "            result += get_arrangements(sequence, sequence_index+1, counts, counts_index, 0)\n",
    "        elif cursor>0 and counts_index<len(counts) and counts[counts_index]==cursor:\n",
    "            result += get_arrangements(sequence, sequence_index+1, counts, counts_index+1, 0)\n",
    "    return result\n",
    "\n",
    "input_text = open('input.txt', 'r').read()\n",
    "input_text = input_text.split('\\n')\n",
    "records = []\n",
    "for line in input_text:\n",
    "    if line == '':\n",
    "        continue\n",
    "    record  = line.split(' ')\n",
    "    sequence = record[0]\n",
    "    counts = tuple([int(x) for x in record[1].split(',')])\n",
    "    records.append((sequence, counts))\n",
    "arrangements = []\n",
    "for sequence, counts in records:\n",
    "    arrangements.append(get_arrangements(sequence, 0, counts, 0, 0))\n",
    "sum_arrangements = sum(arrangements)\n",
    "print(\"The sum of the counts of all the different arrangements of operational and broken springs = \", sum_arrangements)"
   ]
  },
  {
   "cell_type": "markdown",
   "metadata": {},
   "source": [
    "### --- Part Two ---"
   ]
  },
  {
   "cell_type": "code",
   "execution_count": 2,
   "metadata": {},
   "outputs": [
    {
     "name": "stdout",
     "output_type": "stream",
     "text": [
      "The sum of the counts of all the different arrangements of operational and broken springs of unfolded records =  6512849198636\n"
     ]
    }
   ],
   "source": [
    "unfolded_records = []\n",
    "for sequence, counts in records:\n",
    "    new_sequence = '?'.join(sequence for _ in range(5))\n",
    "    new_counts = tuple(counts * 5)\n",
    "    unfolded_records.append((new_sequence, new_counts))\n",
    "arrangements = []\n",
    "for sequence, counts in unfolded_records:\n",
    "    arrangements.append(get_arrangements(sequence, 0, counts, 0, 0))\n",
    "sum_arrangements = sum(arrangements)\n",
    "print(\"The sum of the counts of all the different arrangements of operational and broken springs of unfolded records = \", sum_arrangements)"
   ]
  }
 ],
 "metadata": {
  "kernelspec": {
   "display_name": "advent-of-code-2023-40H9lvEx",
   "language": "python",
   "name": "python3"
  },
  "language_info": {
   "codemirror_mode": {
    "name": "ipython",
    "version": 3
   },
   "file_extension": ".py",
   "mimetype": "text/x-python",
   "name": "python",
   "nbconvert_exporter": "python",
   "pygments_lexer": "ipython3",
   "version": "3.10.9"
  }
 },
 "nbformat": 4,
 "nbformat_minor": 2
}
