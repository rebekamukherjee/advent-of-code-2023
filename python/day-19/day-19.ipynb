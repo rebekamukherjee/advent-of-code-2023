{
 "cells": [
  {
   "cell_type": "markdown",
   "metadata": {},
   "source": [
    "### --- Day 19: Aplenty ---\n",
    "\n",
    "https://adventofcode.com/2023/day/19"
   ]
  },
  {
   "cell_type": "code",
   "execution_count": 1,
   "metadata": {},
   "outputs": [
    {
     "name": "stdout",
     "output_type": "stream",
     "text": [
      "The sum of all of the rating numbers for all of the parts that ultimately get accepted =  368964\n"
     ]
    }
   ],
   "source": [
    "import re\n",
    "input_text = open('input.txt', 'r').read()\n",
    "input_text = input_text.split('\\n')\n",
    "workflows = {}\n",
    "part_ratings = []\n",
    "for line in input_text:\n",
    "    if line=='':\n",
    "        continue\n",
    "    if 'x=' in line:\n",
    "        part_rating = [int (x) for x in re.findall(r'\\d+', line)]\n",
    "        part_ratings.append(part_rating)\n",
    "    else:\n",
    "        label = line.split('{')[0]\n",
    "        directives = line.split('{')[1][:-1]\n",
    "        workflows[label] = (directives)\n",
    "\n",
    "def is_acceptable_part(part, work):\n",
    "    x, m, a, s = part\n",
    "    directives = workflows[work].split(',')\n",
    "    for d in directives:\n",
    "        if d=='R':\n",
    "            return False\n",
    "        if d=='A':\n",
    "            return True\n",
    "        if ':' not in d:\n",
    "            return is_acceptable_part(part, d)\n",
    "        condition = d.split(':')[0]\n",
    "        result = d.split(':')[1]\n",
    "        if eval(condition):\n",
    "            if result=='R':\n",
    "                return False\n",
    "            if result=='A':\n",
    "                return True\n",
    "            return is_acceptable_part(part, result)\n",
    "\n",
    "sum_accepted_part_ratings = 0\n",
    "for part in part_ratings:\n",
    "    if is_acceptable_part(part, 'in'):\n",
    "        sum_accepted_part_ratings+=sum(part)\n",
    "print(\"The sum of all of the rating numbers for all of the parts that ultimately get accepted = \", sum_accepted_part_ratings)"
   ]
  },
  {
   "cell_type": "markdown",
   "metadata": {},
   "source": [
    "### --- Part Two ---"
   ]
  },
  {
   "cell_type": "code",
   "execution_count": 2,
   "metadata": {},
   "outputs": [
    {
     "name": "stdout",
     "output_type": "stream",
     "text": [
      "The number of distinct combinations of ratings will be accepted by the Elves' workflows =  127675188176682\n"
     ]
    }
   ],
   "source": [
    "import math\n",
    "\n",
    "total_accepted = 0\n",
    "queue = [('in', (1, 4000), (1, 4000), (1, 4000), (1, 4000))]\n",
    "while queue:\n",
    "    work, *ranges = queue.pop()\n",
    "    if work in ('A', 'R'):\n",
    "        if work=='A':\n",
    "            total_accepted += math.prod(high-low+1 for low, high in ranges)\n",
    "        continue\n",
    "    for d in workflows[work].split(',')[:-1]:\n",
    "        left, operator, right, result = re.findall('(\\w+)(<|>)(\\d+):(\\w+)', d)[0]\n",
    "        left_index = 'xmas'.index(left)\n",
    "        low, high = ranges[left_index]\n",
    "        right = int(right)\n",
    "        if (operator=='>' and right>=high) or (operator=='<' and right<=low):\n",
    "            continue\n",
    "        if (operator=='>' and right<low) or (operator=='<' and right>high):\n",
    "            queue.append((result, *ranges))\n",
    "            break\n",
    "        if operator=='>':\n",
    "            transfer = (right+1, high)\n",
    "            passthrough = (low, right)\n",
    "        else:\n",
    "            transfer = (low, right-1)\n",
    "            passthrough = (right, high)\n",
    "        ranges[left_index] = passthrough\n",
    "        new_ranges = ranges.copy()\n",
    "        new_ranges[left_index] = transfer\n",
    "        queue.append((result, *new_ranges))    \n",
    "    else:\n",
    "        queue.append((workflows[work].split(',')[-1], *ranges))\n",
    "print(\"The number of distinct combinations of ratings will be accepted by the Elves' workflows = \", total_accepted)"
   ]
  }
 ],
 "metadata": {
  "kernelspec": {
   "display_name": "advent-of-code-2023-40H9lvEx",
   "language": "python",
   "name": "python3"
  },
  "language_info": {
   "codemirror_mode": {
    "name": "ipython",
    "version": 3
   },
   "file_extension": ".py",
   "mimetype": "text/x-python",
   "name": "python",
   "nbconvert_exporter": "python",
   "pygments_lexer": "ipython3",
   "version": "3.10.9"
  }
 },
 "nbformat": 4,
 "nbformat_minor": 2
}
