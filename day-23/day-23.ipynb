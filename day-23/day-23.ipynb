{
 "cells": [
  {
   "cell_type": "markdown",
   "metadata": {},
   "source": [
    "### --- Day 23: A Long Walk ---\n",
    "\n",
    "https://adventofcode.com/2023/day/23"
   ]
  },
  {
   "cell_type": "code",
   "execution_count": 40,
   "metadata": {},
   "outputs": [
    {
     "name": "stdout",
     "output_type": "stream",
     "text": [
      "The number of steps in the longest hike =  2174\n"
     ]
    }
   ],
   "source": [
    "def get_longest_hike(x, y, path_length, visited):\n",
    "    if (x, y)==end:\n",
    "        return path_length\n",
    "    visited.add((x, y))\n",
    "    best_path_length = 0    \n",
    "    for direction in directions:\n",
    "        dx, dy, dc = directions[direction]\n",
    "        next_x = x + dx\n",
    "        next_y = y + dy\n",
    "        if (map[next_y][next_x]=='.' or map[next_y][next_x]==dc) and (next_x, next_y) not in visited:\n",
    "            best_path_length = max(best_path_length, get_longest_hike(next_x, next_y, path_length+1, visited))\n",
    "    visited.remove((x, y))\n",
    "    return best_path_length\n",
    "\n",
    "input_text = open('input.txt', 'r').read()\n",
    "input_text = input_text.split('\\n')\n",
    "map = []\n",
    "for line in input_text:\n",
    "    if line=='':\n",
    "        continue\n",
    "    map.append(list(line))\n",
    "start = (map[0].index('.'), 0)\n",
    "end = (map[-1].index('.'), len(map)-1)\n",
    "visited = set()\n",
    "directions = {'R': (1, 0, '>'), 'L': (-1, 0, '<'), 'U': (0, -1, '^'), 'D': (0, 1, 'v')}\n",
    "max_steps = get_longest_hike(start[0], start[1]+1, 1, visited)\n",
    "print(\"The number of steps in the longest hike = \", max_steps)"
   ]
  },
  {
   "cell_type": "markdown",
   "metadata": {},
   "source": [
    "### --- Part Two ---"
   ]
  },
  {
   "cell_type": "code",
   "execution_count": 46,
   "metadata": {},
   "outputs": [
    {
     "name": "stdout",
     "output_type": "stream",
     "text": [
      "The number of steps in the longest hike =  6506\n"
     ]
    }
   ],
   "source": [
    "def neighbors(x, y):\n",
    "    for direction in directions:\n",
    "        dx, dy, _ = directions[direction]\n",
    "        next_x = x + dx\n",
    "        next_y = y + dy\n",
    "        if next_x >= 0 and next_x < len(map[0]) and next_y >= 0 and next_y < len(map) and map[next_y][next_x]!='#':\n",
    "            yield(next_x, next_y)\n",
    "\n",
    "def measure(edges, start, head):\n",
    "    count = 1\n",
    "    while len(edges[head])==2:\n",
    "        count += 1\n",
    "        next = [n for _, n in edges[head] if n!=start][0]\n",
    "        start, head = (head, next)\n",
    "    return (count, head)\n",
    "\n",
    "def trails():\n",
    "    edges = {}\n",
    "    for y in range(len(map)):\n",
    "        for x in range(len(map[0])):\n",
    "            if map[y][x]!='#':\n",
    "                edges[(x, y)] = [(1, n) for n in neighbors(x, y)]\n",
    "    new_edges = {}\n",
    "    for k, v in edges.items():\n",
    "        if len(v)!=2:\n",
    "            new_edges[k] = [measure(edges, k, n[1]) for n in v]\n",
    "    return new_edges\n",
    "\n",
    "def get_longest_hike_2(x, y, trails, visited):\n",
    "    visited.add((x, y))    \n",
    "    stack = [((x, y), 0, visited)]\n",
    "    best_path_length = 0\n",
    "    while stack:\n",
    "        current_position, distance, visited = stack.pop()\n",
    "        if current_position==end:\n",
    "            best_path_length = max(best_path_length, distance)\n",
    "        for d, next in trails[current_position]:\n",
    "            if next not in visited:\n",
    "                stack.append((next, distance+d, visited.union(set([next]))))\n",
    "    return best_path_length\n",
    "\n",
    "visited = set()\n",
    "max_steps = get_longest_hike_2(start[0], start[1], trails(), visited)\n",
    "print(\"The number of steps in the longest hike = \", max_steps)"
   ]
  }
 ],
 "metadata": {
  "kernelspec": {
   "display_name": "advent-of-code-2023-urXzIf7u",
   "language": "python",
   "name": "python3"
  },
  "language_info": {
   "codemirror_mode": {
    "name": "ipython",
    "version": 3
   },
   "file_extension": ".py",
   "mimetype": "text/x-python",
   "name": "python",
   "nbconvert_exporter": "python",
   "pygments_lexer": "ipython3",
   "version": "3.12.0"
  }
 },
 "nbformat": 4,
 "nbformat_minor": 2
}
