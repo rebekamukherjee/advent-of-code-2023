{
 "cells": [
  {
   "cell_type": "markdown",
   "metadata": {},
   "source": [
    "### --- Day 17: Clumsy Crucible ---\n",
    "\n",
    "https://adventofcode.com/2023/day/17"
   ]
  },
  {
   "cell_type": "code",
   "execution_count": 70,
   "metadata": {},
   "outputs": [
    {
     "name": "stdout",
     "output_type": "stream",
     "text": [
      "The least heat that can be incurred by crucible =  855\n"
     ]
    }
   ],
   "source": [
    "from heapq import heappop, heappush\n",
    "import numpy as np\n",
    "\n",
    "def find_least_heat_path(board, min_steps, max_steps):\n",
    "    board = np.array(board)\n",
    "    directions = {'up': (-1, 0), 'down': (1, 0), 'left': (0, -1), 'right': (0, 1)}\n",
    "    open = [\n",
    "        (0, 0, 0, directions['right'], 1),\n",
    "        (0, 0, 0, directions['down'], 1)\n",
    "    ]\n",
    "    closed = set()\n",
    "    while len(open) > 0:\n",
    "        prev_cost, prev_x, prev_y, direction, direction_count = heappop(open)\n",
    "        if (prev_x, prev_y, direction, direction_count) in closed:\n",
    "            continue\n",
    "        closed.add((prev_x, prev_y, direction, direction_count))\n",
    "        x = prev_x + direction[1]\n",
    "        y = prev_y + direction[0]\n",
    "        if x<0 or y<0 or x>=board.shape[1] or y>=board.shape[0]:\n",
    "           continue\n",
    "        cost = prev_cost + board[y, x]\n",
    "        if direction_count>=min_steps and direction_count<=max_steps:\n",
    "            if x==board.shape[1]-1 and y==board.shape[0]-1:\n",
    "                return cost\n",
    "        for d in  directions.values():\n",
    "            if d[0]+direction[0]==0 and d[1]+direction[1]==0:\n",
    "                continue\n",
    "            if d==direction:\n",
    "                new_direction_count = direction_count+1\n",
    "            else:\n",
    "                new_direction_count = 1\n",
    "            if (d!=direction and direction_count<min_steps) or new_direction_count>max_steps:\n",
    "               continue\n",
    "            heappush(open, (cost, x, y, d, new_direction_count))\n",
    "\n",
    "\n",
    "input_text = open('input.txt', 'r').read()\n",
    "input_text = input_text.split('\\n')\n",
    "board = []\n",
    "for line in input_text:\n",
    "    if line=='':\n",
    "        continue\n",
    "    board.append([int(x) for x in list(line)])\n",
    "least_heat_loss = find_least_heat_path(board, 1, 3)\n",
    "print(\"The least heat that can be incurred by crucible = \" , least_heat_loss)"
   ]
  },
  {
   "cell_type": "markdown",
   "metadata": {},
   "source": [
    "### --- Part Two ---"
   ]
  },
  {
   "cell_type": "code",
   "execution_count": 71,
   "metadata": {},
   "outputs": [
    {
     "name": "stdout",
     "output_type": "stream",
     "text": [
      "The least heat that can be incurred by ultra crucible =  980\n"
     ]
    }
   ],
   "source": [
    "least_heat_loss = find_least_heat_path(board, 4, 10)\n",
    "print(\"The least heat that can be incurred by ultra crucible = \" , least_heat_loss)"
   ]
  }
 ],
 "metadata": {
  "kernelspec": {
   "display_name": "advent-of-code-2023-urXzIf7u",
   "language": "python",
   "name": "python3"
  },
  "language_info": {
   "codemirror_mode": {
    "name": "ipython",
    "version": 3
   },
   "file_extension": ".py",
   "mimetype": "text/x-python",
   "name": "python",
   "nbconvert_exporter": "python",
   "pygments_lexer": "ipython3",
   "version": "3.12.0"
  }
 },
 "nbformat": 4,
 "nbformat_minor": 2
}
