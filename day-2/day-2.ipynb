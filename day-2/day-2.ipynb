{
 "cells": [
  {
   "cell_type": "markdown",
   "metadata": {},
   "source": [
    "### --- Day 2: Cube Conundrum ---\n",
    "\n",
    "https://adventofcode.com/2023/day/2"
   ]
  },
  {
   "cell_type": "code",
   "execution_count": 20,
   "metadata": {},
   "outputs": [
    {
     "name": "stdout",
     "output_type": "stream",
     "text": [
      "Sum of possible game ids =  3099\n"
     ]
    }
   ],
   "source": [
    "import re\n",
    "input_text = open('input.txt', 'r').read()\n",
    "input_text = input_text.split('\\n')\n",
    "possible_game_ids = []\n",
    "for line in input_text:    \n",
    "    red_counts = re.findall(r\"(\\d+) red\", line)\n",
    "    green_counts = re.findall(r\"(\\d+) green\", line)\n",
    "    blue_counts = re.findall(r\"(\\d+) blue\", line)\n",
    "    flag = 0\n",
    "    for red in red_counts:\n",
    "        if int(red) > 12:\n",
    "            flag=1\n",
    "            break\n",
    "    if flag!=1:\n",
    "        for green in green_counts:\n",
    "            if int(green) > 13:\n",
    "                flag=1\n",
    "                break\n",
    "    if flag!=1:\n",
    "        for blue in blue_counts:\n",
    "            if int(blue) > 14:\n",
    "                flag=1\n",
    "                break\n",
    "    if flag==0:\n",
    "        game_id = int(re.findall(r\"Game (\\d+)\", line)[0])\n",
    "        possible_game_ids.append(game_id)\n",
    "sum_possible_game_ids = sum(possible_game_ids)\n",
    "print(\"Sum of possible game ids = \", sum_possible_game_ids)\n"
   ]
  },
  {
   "cell_type": "markdown",
   "metadata": {},
   "source": [
    "### --- Part Two ---"
   ]
  },
  {
   "cell_type": "code",
   "execution_count": 31,
   "metadata": {},
   "outputs": [
    {
     "name": "stdout",
     "output_type": "stream",
     "text": [
      "Sum of power of the minimum set of cubes =  72970\n"
     ]
    }
   ],
   "source": [
    "input_text = open('input.txt', 'r').read()\n",
    "input_text = input_text.split('\\n')\n",
    "powers_of_min_set = []\n",
    "for line in input_text:    \n",
    "    min_reds = max([int(x) for x in re.findall(r\"(\\d+) red\", line)])\n",
    "    min_greens = max([int(x) for x in re.findall(r\"(\\d+) green\", line)])\n",
    "    min_blues = max([int(x) for x in re.findall(r\"(\\d+) blue\", line)])\n",
    "    power_of_min_set = min_reds * min_greens * min_blues\n",
    "    powers_of_min_set.append(power_of_min_set)\n",
    "sum_powers_of_min_set = sum(powers_of_min_set)\n",
    "print(\"Sum of power of the minimum set of cubes = \", sum_powers_of_min_set)"
   ]
  }
 ],
 "metadata": {
  "kernelspec": {
   "display_name": "advent-of-code-2023-Nog2JbGz",
   "language": "python",
   "name": "python3"
  },
  "language_info": {
   "codemirror_mode": {
    "name": "ipython",
    "version": 3
   },
   "file_extension": ".py",
   "mimetype": "text/x-python",
   "name": "python",
   "nbconvert_exporter": "python",
   "pygments_lexer": "ipython3",
   "version": "3.10.9"
  }
 },
 "nbformat": 4,
 "nbformat_minor": 2
}
