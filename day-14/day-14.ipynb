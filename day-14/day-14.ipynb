{
 "cells": [
  {
   "cell_type": "markdown",
   "metadata": {},
   "source": [
    "### --- Day 14: Parabolic Reflector Dish ---\n",
    "\n",
    "https://adventofcode.com/2023/day/14"
   ]
  },
  {
   "cell_type": "code",
   "execution_count": 107,
   "metadata": {},
   "outputs": [
    {
     "name": "stdout",
     "output_type": "stream",
     "text": [
      "The total load on the north support beams =  108813\n"
     ]
    }
   ],
   "source": [
    "import numpy as np\n",
    "\n",
    "def tilt(board):\n",
    "    for c in range(len(board[0])):\n",
    "        col = board[:,c]\n",
    "        for r in range(len(col)):\n",
    "            if board[r][c]=='.':\n",
    "                for k in range(r+1, len(col)):\n",
    "                    if board[k][c]=='#':\n",
    "                        break\n",
    "                    elif board[k][c]=='.':\n",
    "                        continue\n",
    "                    elif board[k][c]=='O':\n",
    "                        board[r][c]='O'\n",
    "                        board[k][c]='.'\n",
    "                        break\n",
    "    return board\n",
    "\n",
    "input_text = open('input.txt', 'r').read()\n",
    "input_text = input_text.split('\\n')\n",
    "rock_board = []\n",
    "for line in input_text:\n",
    "    if line=='':\n",
    "        continue\n",
    "    rock_board.append(list(line))\n",
    "rock_board = np.array(rock_board)\n",
    "tilted_board = tilt(rock_board)\n",
    "total_load = 0\n",
    "for r in range(len(tilted_board)):\n",
    "    row = tilted_board[r]\n",
    "    count = list(row).count('O')\n",
    "    total_load += count * (len(tilted_board) - r)\n",
    "print(\"The total load on the north support beams = \", total_load)"
   ]
  },
  {
   "cell_type": "markdown",
   "metadata": {},
   "source": [
    "### --- Part Two ---"
   ]
  },
  {
   "cell_type": "code",
   "execution_count": 108,
   "metadata": {},
   "outputs": [
    {
     "name": "stdout",
     "output_type": "stream",
     "text": [
      "The total load on the north support beams =  104533\n"
     ]
    }
   ],
   "source": [
    "def spin_cycle(board):\n",
    "    board = tilt(board)    # tilt north\n",
    "    board = np.rot90(board, k=-1)\n",
    "    board = tilt(board)    # tilt west\n",
    "    board = np.rot90(board, k=-1)\n",
    "    board = tilt(board)    # tilt south\n",
    "    board = np.rot90(board, k=-1)\n",
    "    board = tilt(board)    # tilt east\n",
    "    board = np.rot90(board, k=-1)\n",
    "    return board\n",
    "\n",
    "spinned_board = rock_board.copy()\n",
    "seen = []\n",
    "num_cycles = 0\n",
    "while True:    \n",
    "    spinned_board = spin_cycle(spinned_board)\n",
    "    if spinned_board.tolist() in seen:\n",
    "        start = seen.index(spinned_board.tolist())\n",
    "        break\n",
    "    seen.append(spinned_board.tolist())\n",
    "    num_cycles+=1\n",
    "total_load = 0\n",
    "final_board = seen[(1000000000 - num_cycles) % (start - num_cycles) + num_cycles - 1]\n",
    "for r in range(len(final_board)):\n",
    "    row = final_board[r]\n",
    "    count = list(row).count('O')\n",
    "    total_load += count * (len(final_board) - r)\n",
    "print(\"The total load on the north support beams = \", total_load)"
   ]
  }
 ],
 "metadata": {
  "kernelspec": {
   "display_name": "advent-of-code-2023-40H9lvEx",
   "language": "python",
   "name": "python3"
  },
  "language_info": {
   "codemirror_mode": {
    "name": "ipython",
    "version": 3
   },
   "file_extension": ".py",
   "mimetype": "text/x-python",
   "name": "python",
   "nbconvert_exporter": "python",
   "pygments_lexer": "ipython3",
   "version": "3.10.9"
  }
 },
 "nbformat": 4,
 "nbformat_minor": 2
}
