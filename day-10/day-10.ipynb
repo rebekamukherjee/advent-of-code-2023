{
 "cells": [
  {
   "cell_type": "markdown",
   "metadata": {},
   "source": [
    "### --- Day 10: Pipe Maze ---\n",
    "\n",
    "https://adventofcode.com/2023/day/10"
   ]
  },
  {
   "cell_type": "code",
   "execution_count": 1,
   "metadata": {},
   "outputs": [
    {
     "name": "stdout",
     "output_type": "stream",
     "text": [
      "Number of steps along the loop it take to get from the starting position to the point farthest from the starting position =  6768\n"
     ]
    }
   ],
   "source": [
    "input_text = open('input.txt', 'r').read()\n",
    "input_text = input_text.split('\\n')\n",
    "tile_board = []\n",
    "start_pos_row = 0\n",
    "start_pos_col = 0\n",
    "for i in range(len(input_text)):\n",
    "    line = input_text[i]\n",
    "    if line == '':\n",
    "        continue\n",
    "    row = list(line)\n",
    "    tile_board.append(row)\n",
    "    if 'S' in row:\n",
    "        start_pos_row = i\n",
    "        start_pos_col = row.index('S')\n",
    "valid_tile = {\n",
    "    'N': '|7F',\n",
    "    'S': '|LJ',\n",
    "    'E': '-7J',\n",
    "    'W': '-LF'\n",
    "}\n",
    "unseen_tiles = [(start_pos_row, start_pos_col)]\n",
    "seen_tiles = [(start_pos_row, start_pos_col)]\n",
    "start_tile = {'|', '-', 'L', 'J', '7', 'F'}\n",
    "while len(unseen_tiles) > 0:\n",
    "    row, col = unseen_tiles.pop(0)\n",
    "    curr_tile = tile_board[row][col]\n",
    "    if row > 0 and curr_tile in 'S'+valid_tile['S'] and tile_board[row-1][col] in valid_tile['N'] and (row-1, col) not in seen_tiles:\n",
    "        seen_tiles.append((row-1, col))\n",
    "        unseen_tiles.append((row-1, col))\n",
    "        if curr_tile == 'S':\n",
    "            start_tile = start_tile.intersection(set(list(valid_tile['S'])))\n",
    "    if row < len(tile_board)-1 and curr_tile in 'S'+valid_tile['N'] and tile_board[row+1][col] in valid_tile['S'] and (row+1, col) not in seen_tiles:\n",
    "        seen_tiles.append((row+1, col))\n",
    "        unseen_tiles.append((row+1, col))\n",
    "        if curr_tile == 'S':\n",
    "            start_tile = start_tile.intersection(set(list(valid_tile['N'])))\n",
    "    if col > 0 and curr_tile in 'S'+valid_tile['E'] and tile_board[row][col - 1] in valid_tile['W'] and (row, col-1) not in seen_tiles:\n",
    "        seen_tiles.append((row, col-1))\n",
    "        unseen_tiles.append((row, col-1))\n",
    "        if curr_tile == 'S':\n",
    "            start_tile = start_tile.intersection(set(list(valid_tile['E'])))\n",
    "    if col < len(tile_board[row])-1 and curr_tile in 'S'+valid_tile['W'] and tile_board[row][col+1] in valid_tile['E'] and (row, col+1) not in seen_tiles:\n",
    "        seen_tiles.append((row, col+1))\n",
    "        unseen_tiles.append((row, col+1))\n",
    "        if curr_tile == 'S':\n",
    "            start_tile = start_tile.intersection(set(list(valid_tile['W'])))\n",
    "num_steps = int(len(seen_tiles)/2)\n",
    "print(\"Number of steps along the loop it take to get from the starting position to the point farthest from the starting position = \", num_steps)"
   ]
  },
  {
   "cell_type": "markdown",
   "metadata": {},
   "source": [
    "### --- Part Two ---"
   ]
  },
  {
   "cell_type": "code",
   "execution_count": 2,
   "metadata": {},
   "outputs": [
    {
     "name": "stdout",
     "output_type": "stream",
     "text": [
      "Number of tiles enclosed by the loop =  351\n"
     ]
    }
   ],
   "source": [
    "tile_board[start_pos_row][start_pos_col] = start_tile.pop()\n",
    "for row in range(len(tile_board)):\n",
    "    for col in range(len(tile_board[0])):\n",
    "        if (row, col) not in seen_tiles:\n",
    "            tile_board[row][col] = '.'\n",
    "enclosed = 0\n",
    "for row in tile_board:\n",
    "    for i in range(len(row)):\n",
    "        char = row[i]\n",
    "        if char != '.':\n",
    "            continue\n",
    "        pipe_tiles = 0\n",
    "        corner_pipes = []\n",
    "        for j in range(i+1, len(row)):\n",
    "            if row[j] == '|':\n",
    "                pipe_tiles += 1            \n",
    "            if row[j] in 'FL':\n",
    "                corner_pipes.append(row[j])\n",
    "            if len(corner_pipes)!=0 and row[j]=='J' and corner_pipes[-1]=='F' or row[j]=='7' and corner_pipes[-1]=='L':\n",
    "                corner_pipes.pop(-1)\n",
    "                pipe_tiles+=1        \n",
    "        if pipe_tiles % 2 == 1:\n",
    "            enclosed += 1          \n",
    "print(\"Number of tiles enclosed by the loop = \", enclosed)"
   ]
  }
 ],
 "metadata": {
  "kernelspec": {
   "display_name": "advent-of-code-2023-40H9lvEx",
   "language": "python",
   "name": "python3"
  },
  "language_info": {
   "codemirror_mode": {
    "name": "ipython",
    "version": 3
   },
   "file_extension": ".py",
   "mimetype": "text/x-python",
   "name": "python",
   "nbconvert_exporter": "python",
   "pygments_lexer": "ipython3",
   "version": "3.10.9"
  }
 },
 "nbformat": 4,
 "nbformat_minor": 2
}
