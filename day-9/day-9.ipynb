{
 "cells": [
  {
   "cell_type": "markdown",
   "metadata": {},
   "source": [
    "### --- Day 9: Mirage Maintenance ---\n",
    "\n",
    "https://adventofcode.com/2023/day/9"
   ]
  },
  {
   "cell_type": "code",
   "execution_count": 39,
   "metadata": {},
   "outputs": [
    {
     "name": "stdout",
     "output_type": "stream",
     "text": [
      "Sum of extrapolated values =  1708206096\n"
     ]
    }
   ],
   "source": [
    "import re\n",
    "\n",
    "input_text = open('input.txt', 'r').read()\n",
    "input_text = input_text.split('\\n')\n",
    "predictions = []\n",
    "for line in input_text:\n",
    "    if line == '':\n",
    "        continue\n",
    "    history = [int (x) for x in re.findall(r'(-?\\d+)', line)]\n",
    "    prev_derivative = history\n",
    "    derivatives = [history]\n",
    "    while True:\n",
    "        next_derivative = []\n",
    "        for i in range(len(prev_derivative)-1):\n",
    "            next_derivative.append(prev_derivative[i+1]-prev_derivative[i])\n",
    "        derivatives.append(next_derivative)\n",
    "        prev_derivative = next_derivative\n",
    "        if len(set(prev_derivative))==1 and 0 in set(prev_derivative):\n",
    "            break\n",
    "    prediction = 0\n",
    "    for i in range(len(derivatives)-1, -1, -1):\n",
    "        prediction = derivatives[i][-1] + prediction\n",
    "    predictions.append(prediction)\n",
    "sum_predictions = sum(predictions)\n",
    "print(\"Sum of extrapolated values = \", sum_predictions)"
   ]
  },
  {
   "cell_type": "markdown",
   "metadata": {},
   "source": [
    "### --- Part Two ---"
   ]
  },
  {
   "cell_type": "code",
   "execution_count": 41,
   "metadata": {},
   "outputs": [
    {
     "name": "stdout",
     "output_type": "stream",
     "text": [
      "Sum of extrapolated values =  1050\n"
     ]
    }
   ],
   "source": [
    "input_text = open('input.txt', 'r').read()\n",
    "input_text = input_text.split('\\n')\n",
    "predictions = []\n",
    "for line in input_text:\n",
    "    if line == '':\n",
    "        continue\n",
    "    history = [int (x) for x in re.findall(r'(-?\\d+)', line)]\n",
    "    prev_derivative = history\n",
    "    derivatives = [history]\n",
    "    while True:\n",
    "        next_derivative = []\n",
    "        for i in range(len(prev_derivative)-1):\n",
    "            next_derivative.append(prev_derivative[i+1]-prev_derivative[i])\n",
    "        derivatives.append(next_derivative)\n",
    "        prev_derivative = next_derivative\n",
    "        if len(set(prev_derivative))==1 and 0 in set(prev_derivative):\n",
    "            break\n",
    "    prediction = 0\n",
    "    for i in range(len(derivatives)-1, -1, -1):\n",
    "        prediction = derivatives[i][0] - prediction\n",
    "    predictions.append(prediction)\n",
    "sum_predictions = sum(predictions)\n",
    "print(\"Sum of extrapolated values = \", sum_predictions)"
   ]
  },
  {
   "cell_type": "code",
   "execution_count": null,
   "metadata": {},
   "outputs": [],
   "source": []
  }
 ],
 "metadata": {
  "kernelspec": {
   "display_name": "advent-of-code-2023-40H9lvEx",
   "language": "python",
   "name": "python3"
  },
  "language_info": {
   "codemirror_mode": {
    "name": "ipython",
    "version": 3
   },
   "file_extension": ".py",
   "mimetype": "text/x-python",
   "name": "python",
   "nbconvert_exporter": "python",
   "pygments_lexer": "ipython3",
   "version": "3.10.9"
  }
 },
 "nbformat": 4,
 "nbformat_minor": 2
}
