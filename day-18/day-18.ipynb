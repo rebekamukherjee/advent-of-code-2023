{
 "cells": [
  {
   "cell_type": "markdown",
   "metadata": {},
   "source": [
    "### --- Day 18: Lavaduct Lagoon ---\n",
    "\n",
    "https://adventofcode.com/2023/day/18"
   ]
  },
  {
   "cell_type": "code",
   "execution_count": 65,
   "metadata": {},
   "outputs": [
    {
     "name": "stdout",
     "output_type": "stream",
     "text": [
      "The number of cubic meters of lava the lagoon can hold =  72821\n"
     ]
    }
   ],
   "source": [
    "import numpy as np\n",
    "\n",
    "# shoelace formula\n",
    "def PolyArea(x,y):\n",
    "    x = np.array(x, dtype='int64')\n",
    "    y = np.array(y, dtype='int64')\n",
    "    return 0.5*np.abs(np.dot(x,np.roll(y,1))-np.dot(y,np.roll(x,1)))\n",
    "\n",
    "\n",
    "input_text = open('input.txt', 'r').read()\n",
    "input_text = input_text.split('\\n')\n",
    "position = (0,0)\n",
    "border = {position}\n",
    "x_coordinates = []\n",
    "y_coordinates = []\n",
    "directions = {'L': (0, -1), 'R': (0, 1), 'U': (1, 0), 'D': (-1, 0)}\n",
    "for line in input_text:\n",
    "    if line=='':\n",
    "        continue\n",
    "    direction, num_cubes, color = line.split()\n",
    "    for i in range(int(num_cubes)):\n",
    "        position = (position[0]+directions[direction][0], position[1]+directions[direction][1])\n",
    "        border.add(position)\n",
    "    x_coordinates.append(position[0])\n",
    "    y_coordinates.append(position[1])\n",
    "area_inside_border = PolyArea(x_coordinates, y_coordinates)\n",
    "length_border = len(border)\n",
    "lagoon_volume = int(area_inside_border + 1 - length_border // 2 + length_border)\n",
    "print(\"The number of cubic meters of lava the lagoon can hold = \", lagoon_volume)"
   ]
  },
  {
   "cell_type": "markdown",
   "metadata": {},
   "source": [
    "### --- Part Two ---"
   ]
  },
  {
   "cell_type": "code",
   "execution_count": 66,
   "metadata": {},
   "outputs": [
    {
     "name": "stdout",
     "output_type": "stream",
     "text": [
      "The number of cubic meters of lava the lagoon can hold =  127844509405501\n"
     ]
    }
   ],
   "source": [
    "position = (0,0)\n",
    "border = {position}\n",
    "x_coordinates = []\n",
    "y_coordinates = []\n",
    "directions = {'L': (0, -1), 'R': (0, 1), 'U': (1, 0), 'D': (-1, 0)}\n",
    "digit_to_direction = {0: 'R', 1: 'D', 2: 'L', 3: 'U'}\n",
    "for line in input_text:\n",
    "    if line=='':\n",
    "        continue\n",
    "    hex = line.split()[2]\n",
    "    direction = digit_to_direction[int(hex[7])]\n",
    "    num_cubes = int(hex[2:7], 16)\n",
    "    for i in range(int(num_cubes)):\n",
    "        position = (position[0]+directions[direction][0], position[1]+directions[direction][1])\n",
    "        border.add(position)\n",
    "    x_coordinates.append(position[0])\n",
    "    y_coordinates.append(position[1])\n",
    "area_inside_border = PolyArea(x_coordinates, y_coordinates)\n",
    "length_border = len(border)\n",
    "lagoon_volume = int(area_inside_border + 1 - length_border // 2 + length_border)\n",
    "print(\"The number of cubic meters of lava the lagoon can hold = \", lagoon_volume)"
   ]
  }
 ],
 "metadata": {
  "kernelspec": {
   "display_name": "advent-of-code-2023-urXzIf7u",
   "language": "python",
   "name": "python3"
  },
  "language_info": {
   "codemirror_mode": {
    "name": "ipython",
    "version": 3
   },
   "file_extension": ".py",
   "mimetype": "text/x-python",
   "name": "python",
   "nbconvert_exporter": "python",
   "pygments_lexer": "ipython3",
   "version": "3.12.0"
  }
 },
 "nbformat": 4,
 "nbformat_minor": 2
}
