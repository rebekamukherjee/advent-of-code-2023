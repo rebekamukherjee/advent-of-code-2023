{
 "cells": [
  {
   "cell_type": "markdown",
   "metadata": {},
   "source": [
    "### --- Day 16: The Floor Will Be Lava ---\n",
    "\n",
    "https://adventofcode.com/2023/day/16"
   ]
  },
  {
   "cell_type": "code",
   "execution_count": 63,
   "metadata": {},
   "outputs": [
    {
     "name": "stdout",
     "output_type": "stream",
     "text": [
      "The number of energized tiles =  7927\n"
     ]
    }
   ],
   "source": [
    "from collections import deque\n",
    "\n",
    "def get_energized_tiles(contraption, start):\n",
    "    queue = deque([start])\n",
    "    seen = set()\n",
    "    energized = set()\n",
    "    while queue:\n",
    "        prev_r, prev_c, dir_r, dir_c = queue.pop()\n",
    "        row = prev_r + dir_r\n",
    "        col = prev_c + dir_c\n",
    "        if (row, col, dir_r, dir_c) in seen:\n",
    "            continue\n",
    "        if row < 0 or row >= len(contraption) or col < 0 or col >= len(contraption[0]):\n",
    "            continue        \n",
    "        seen.add((row, col, dir_r, dir_c))\n",
    "        energized.add((row, col))\n",
    "        tile = contraption[row][col]\n",
    "        if tile == '/':\n",
    "            queue.append((row, col, -dir_c, -dir_r))\n",
    "        elif tile == '\\\\':\n",
    "            queue.append((row, col, dir_c, dir_r))\n",
    "        elif tile == '|':\n",
    "            if dir_c:\n",
    "                queue.append((row, col, -1, 0))\n",
    "                queue.append((row, col, 1, 0))\n",
    "                \n",
    "            else:\n",
    "                queue.append((row, col, dir_r, dir_c))\n",
    "        elif tile == '-':\n",
    "            if dir_r:\n",
    "                queue.append((row, col, 0, -1))\n",
    "                queue.append((row, col, 0, 1))\n",
    "                \n",
    "            else:\n",
    "                queue.append((row, col, dir_r, dir_c))\n",
    "        else:\n",
    "            queue.append((row, col, dir_r, dir_c))\n",
    "    num_energized = len(energized)\n",
    "    return num_energized\n",
    "\n",
    "\n",
    "input_text = open('input.txt', 'r').read()\n",
    "input_text = input_text.split('\\n')\n",
    "contraption = []\n",
    "for line in input_text:\n",
    "    if line=='':\n",
    "        continue\n",
    "    contraption.append(list(line))\n",
    "num_energized = get_energized_tiles(contraption, (0, -1, 0, 1))\n",
    "print (\"The number of energized tiles = \", num_energized)\n"
   ]
  },
  {
   "cell_type": "markdown",
   "metadata": {},
   "source": [
    "### --- Part Two ---"
   ]
  },
  {
   "cell_type": "code",
   "execution_count": 64,
   "metadata": {},
   "outputs": [
    {
     "name": "stdout",
     "output_type": "stream",
     "text": [
      "The number of energized tiles in the best configuration =  8246\n"
     ]
    }
   ],
   "source": [
    "configurations = []\n",
    "num_rows = len(contraption)\n",
    "num_cols = len(contraption[0])\n",
    "for i in range(num_rows):\n",
    "    configurations.append(get_energized_tiles(contraption, (i, -1, 0, 1)))\n",
    "    configurations.append(get_energized_tiles(contraption, (i, num_cols, 0, -1)))\n",
    "for i in range(num_cols):\n",
    "    configurations.append(get_energized_tiles(contraption, (-1, i, 1, 0)))\n",
    "    configurations.append(get_energized_tiles(contraption, (num_rows, i, -1, 0)))\n",
    "best_configuration_num_energized = max(configurations)\n",
    "print (\"The number of energized tiles in the best configuration = \", best_configuration_num_energized)"
   ]
  }
 ],
 "metadata": {
  "kernelspec": {
   "display_name": "advent-of-code-2023-urXzIf7u",
   "language": "python",
   "name": "python3"
  },
  "language_info": {
   "codemirror_mode": {
    "name": "ipython",
    "version": 3
   },
   "file_extension": ".py",
   "mimetype": "text/x-python",
   "name": "python",
   "nbconvert_exporter": "python",
   "pygments_lexer": "ipython3",
   "version": "3.12.0"
  }
 },
 "nbformat": 4,
 "nbformat_minor": 2
}
