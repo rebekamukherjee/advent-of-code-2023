{
 "cells": [
  {
   "cell_type": "markdown",
   "metadata": {},
   "source": [
    "### --- Day 4: Scratchcards ---\n",
    "\n",
    "https://adventofcode.com/2023/day/4"
   ]
  },
  {
   "cell_type": "code",
   "execution_count": 34,
   "metadata": {},
   "outputs": [
    {
     "name": "stdout",
     "output_type": "stream",
     "text": [
      "Sum of worth of all scratchcards =  19135.0\n"
     ]
    }
   ],
   "source": [
    "import math\n",
    "import re\n",
    "input_text = open('input.txt', 'r').read()\n",
    "input_text = input_text.split('\\n')\n",
    "all_scores = []\n",
    "card_matches = {}\n",
    "for line in input_text:\n",
    "    card_number = re.findall('Card\\s+(\\d+): ', line)[0]\n",
    "    all_numbers = line.replace(re.findall('Card\\s+\\d+: ', line)[0], '')\n",
    "    winning_numbers = all_numbers.split(' | ')[0].split(' ')\n",
    "    winning_numbers = [int(x) for x in winning_numbers if x!='']\n",
    "    elf_numbers = all_numbers.split(' | ')[1].split(' ')\n",
    "    elf_numbers = [int(x) for x in elf_numbers if x!='']\n",
    "    num_matches = 0\n",
    "    for number in winning_numbers:\n",
    "        if number in elf_numbers:\n",
    "            num_matches += 1\n",
    "    if num_matches==0:\n",
    "        score = 0\n",
    "    else:\n",
    "        score = math.pow(2, num_matches-1)\n",
    "    all_scores.append(score)\n",
    "    card_matches[int(card_number)] = num_matches\n",
    "total_score = sum(all_scores)\n",
    "print(\"Sum of worth of all scratchcards = \", total_score)"
   ]
  },
  {
   "cell_type": "markdown",
   "metadata": {},
   "source": [
    "### --- Part Two ---"
   ]
  },
  {
   "cell_type": "code",
   "execution_count": 48,
   "metadata": {},
   "outputs": [
    {
     "name": "stdout",
     "output_type": "stream",
     "text": [
      "Sum of number of all scratchcards =  5704953\n"
     ]
    }
   ],
   "source": [
    "card_counter = {}\n",
    "for card_number in range(1, len(input_text)+1):\n",
    "    card_counter[card_number] = 1\n",
    "for card_number in range(1, len(input_text)+1):\n",
    "    card_count = card_counter[card_number]\n",
    "    num_matches = card_matches[card_number]\n",
    "    for x in range(card_count):    \n",
    "        for card in range(card_number+1, card_number+num_matches+1):\n",
    "            card_counter[card]+=1\n",
    "total_number_scratchcards = sum(card_counter.values())\n",
    "print(\"Sum of number of all scratchcards = \", total_number_scratchcards)"
   ]
  }
 ],
 "metadata": {
  "kernelspec": {
   "display_name": "advent-of-code-2023-Nog2JbGz",
   "language": "python",
   "name": "python3"
  },
  "language_info": {
   "codemirror_mode": {
    "name": "ipython",
    "version": 3
   },
   "file_extension": ".py",
   "mimetype": "text/x-python",
   "name": "python",
   "nbconvert_exporter": "python",
   "pygments_lexer": "ipython3",
   "version": "3.10.9"
  }
 },
 "nbformat": 4,
 "nbformat_minor": 2
}
