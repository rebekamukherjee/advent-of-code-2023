{
 "cells": [
  {
   "cell_type": "markdown",
   "metadata": {},
   "source": [
    "### --- Day 6: Wait For It ---\n",
    "\n",
    "https://adventofcode.com/2023/day/6"
   ]
  },
  {
   "cell_type": "code",
   "execution_count": 7,
   "metadata": {},
   "outputs": [
    {
     "name": "stdout",
     "output_type": "stream",
     "text": [
      "The number of ways to beat the record in each race =  1312850\n"
     ]
    }
   ],
   "source": [
    "import re\n",
    "\n",
    "input_text = open('input.txt', 'r').read()\n",
    "input_text = input_text.split('\\n')\n",
    "for line in input_text:\n",
    "    if 'Time' in line:\n",
    "        time = [int(x) for x in re.findall(r\"(\\d+)\", line)]\n",
    "    elif 'Distance' in line:\n",
    "        distance = [int(x) for x in re.findall(r\"(\\d+)\", line)]\n",
    "ways_to_win = []\n",
    "num_ways_to_win = 1\n",
    "for race_num in range(len(time)):\n",
    "    num_wins = 0\n",
    "    for t in range(time[race_num]+1):\n",
    "        if t==0 or t==time[race_num]:\n",
    "            d=0\n",
    "        else:\n",
    "            speed = t\n",
    "            time_left = time[race_num]-t\n",
    "            distance_travelled = speed * time_left\n",
    "            if distance_travelled > distance[race_num]:\n",
    "                num_wins+=1\n",
    "    ways_to_win.append(num_wins)\n",
    "    num_ways_to_win*= num_wins\n",
    "print(\"The number of ways to beat the record in each race = \", num_ways_to_win)"
   ]
  },
  {
   "cell_type": "markdown",
   "metadata": {},
   "source": [
    "### --- Part Two ---"
   ]
  },
  {
   "cell_type": "code",
   "execution_count": 30,
   "metadata": {},
   "outputs": [
    {
     "name": "stdout",
     "output_type": "stream",
     "text": [
      "The number of ways to beat the record in this one much longer race =  36749103\n"
     ]
    }
   ],
   "source": [
    "new_time = int(''.join(str(t) for t in time))\n",
    "new_distance = int(''.join(str(t) for t in distance))\n",
    "for t in range(new_time+1):\n",
    "    if t==0 or t==new_time:\n",
    "        d=0\n",
    "    else:\n",
    "        speed = t\n",
    "        time_left = new_time-t\n",
    "        distance_travelled = speed * time_left\n",
    "        if distance_travelled > new_distance:\n",
    "            min_hold_time = t\n",
    "            break\n",
    "for t in range(new_time, 0, -1):\n",
    "    if t==0 or t==new_time:\n",
    "        d=0\n",
    "    else:\n",
    "        speed = t\n",
    "        time_left = new_time-t\n",
    "        distance_travelled = speed * time_left\n",
    "        if distance_travelled > new_distance:\n",
    "            max_hold_time = t\n",
    "            break\n",
    "num_ways_to_win = max_hold_time-min_hold_time+1\n",
    "print(\"The number of ways to beat the record in this one much longer race = \", num_ways_to_win)"
   ]
  }
 ],
 "metadata": {
  "kernelspec": {
   "display_name": "advent-of-code-2023-40H9lvEx",
   "language": "python",
   "name": "python3"
  },
  "language_info": {
   "codemirror_mode": {
    "name": "ipython",
    "version": 3
   },
   "file_extension": ".py",
   "mimetype": "text/x-python",
   "name": "python",
   "nbconvert_exporter": "python",
   "pygments_lexer": "ipython3",
   "version": "3.10.9"
  }
 },
 "nbformat": 4,
 "nbformat_minor": 2
}
