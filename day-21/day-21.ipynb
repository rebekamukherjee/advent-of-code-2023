{
 "cells": [
  {
   "cell_type": "markdown",
   "metadata": {},
   "source": [
    "### --- Day 21: Step Counter ---\n",
    "\n",
    "https://adventofcode.com/2023/day/21"
   ]
  },
  {
   "cell_type": "code",
   "execution_count": 1,
   "metadata": {},
   "outputs": [
    {
     "name": "stdout",
     "output_type": "stream",
     "text": [
      "The number of garden plots that the Elf could reach in exactly 64 steps =  3503\n"
     ]
    }
   ],
   "source": [
    "input_text = open('input.txt', 'r').read()\n",
    "input_text = input_text.split('\\n')\n",
    "garden = []\n",
    "for i, line in enumerate(input_text):\n",
    "    if line=='':\n",
    "        continue\n",
    "    if 'S' in line:\n",
    "        start_row = i\n",
    "        start_col = line.index('S')\n",
    "    garden.append(list(line))\n",
    "directions = {'R': (0, 1), 'L': (0, -1), 'U': (-1, 0), 'D': (1, 0)}\n",
    "queue = {(start_row, start_col)}\n",
    "for _ in range(64):\n",
    "    new_queue = set()\n",
    "    while queue:\n",
    "        tile_row, tile_col = queue.pop()\n",
    "        for dir in directions:\n",
    "            next_row = tile_row + directions[dir][0]\n",
    "            next_col = tile_col + directions[dir][1]\n",
    "            if garden[next_row][next_col]!='#':\n",
    "                new_queue.add((next_row, next_col))\n",
    "    queue = new_queue\n",
    "num_plots = len(queue)\n",
    "print(\"The number of garden plots that the Elf could reach in exactly 64 steps = \", num_plots)"
   ]
  },
  {
   "cell_type": "markdown",
   "metadata": {},
   "source": [
    "### --- Part Two ---"
   ]
  },
  {
   "cell_type": "code",
   "execution_count": 2,
   "metadata": {},
   "outputs": [
    {
     "name": "stdout",
     "output_type": "stream",
     "text": [
      "The number of garden plots that the Elf could reach in exactly 26501365 steps =  584211423220706\n"
     ]
    }
   ],
   "source": [
    "goal_steps = 26501365\n",
    "n, m = len(garden), len(garden[0])\n",
    "queue = {(start_row, start_col)}\n",
    "steps = 1\n",
    "y = []\n",
    "while True:\n",
    "    if len(y)==3:\n",
    "        break\n",
    "    new_queue = set()    \n",
    "    while queue:\n",
    "        row, col = queue.pop()\n",
    "        for dir in directions:\n",
    "            next_row = row + directions[dir][0]\n",
    "            next_col = col + directions[dir][1]\n",
    "            if garden[next_row%n][next_col%m]!='#':\n",
    "                new_queue.add((next_row, next_col))\n",
    "    queue = new_queue\n",
    "    if steps%n==goal_steps%n:\n",
    "        y.append(len(queue))\n",
    "    steps += 1\n",
    "f = lambda n,a,b,c: a+n*(b-a+(n-1)*(c-b-b+a)//2)\n",
    "num_plots = f(goal_steps//n, *y)\n",
    "print(\"The number of garden plots that the Elf could reach in exactly 26501365 steps = \", num_plots)\n"
   ]
  }
 ],
 "metadata": {
  "kernelspec": {
   "display_name": "advent-of-code-2023-urXzIf7u",
   "language": "python",
   "name": "python3"
  },
  "language_info": {
   "codemirror_mode": {
    "name": "ipython",
    "version": 3
   },
   "file_extension": ".py",
   "mimetype": "text/x-python",
   "name": "python",
   "nbconvert_exporter": "python",
   "pygments_lexer": "ipython3",
   "version": "3.12.0"
  }
 },
 "nbformat": 4,
 "nbformat_minor": 2
}
