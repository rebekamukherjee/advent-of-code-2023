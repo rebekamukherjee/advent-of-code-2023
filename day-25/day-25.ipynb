{
 "cells": [
  {
   "cell_type": "markdown",
   "metadata": {},
   "source": [
    "### --- Day 25: Snowverload ---\n",
    "\n",
    "https://adventofcode.com/2023/day/25"
   ]
  },
  {
   "cell_type": "code",
   "execution_count": 1,
   "metadata": {},
   "outputs": [
    {
     "name": "stdout",
     "output_type": "stream",
     "text": [
      "The multiplication of the sizes of the two groups =  543036\n"
     ]
    }
   ],
   "source": [
    "import networkx as nx\n",
    "\n",
    "input_text = open('input.txt', 'r').read()\n",
    "input_text = input_text.split('\\n')\n",
    "G = nx.Graph()\n",
    "for line in input_text:\n",
    "    if line=='':\n",
    "        continue\n",
    "    start_component, end_components = line.split(': ')\n",
    "    for end_component in end_components.split(' '):\n",
    "        G.add_edge(start_component, end_component)\n",
    "G.remove_edges_from(nx.minimum_edge_cut(G))\n",
    "product_connected_components = 1\n",
    "for connected_components in nx.connected_components(G):\n",
    "    product_connected_components *= len(connected_components)\n",
    "print(\"The multiplication of the sizes of the two groups = \", product_connected_components)"
   ]
  }
 ],
 "metadata": {
  "kernelspec": {
   "display_name": "advent-of-code-2023-urXzIf7u",
   "language": "python",
   "name": "python3"
  },
  "language_info": {
   "codemirror_mode": {
    "name": "ipython",
    "version": 3
   },
   "file_extension": ".py",
   "mimetype": "text/x-python",
   "name": "python",
   "nbconvert_exporter": "python",
   "pygments_lexer": "ipython3",
   "version": "3.12.0"
  }
 },
 "nbformat": 4,
 "nbformat_minor": 2
}
