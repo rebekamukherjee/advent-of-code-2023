{
 "cells": [
  {
   "cell_type": "markdown",
   "metadata": {},
   "source": [
    "### --- Day 8: Haunted Wasteland ---\n",
    "\n",
    "https://adventofcode.com/2023/day/8"
   ]
  },
  {
   "cell_type": "code",
   "execution_count": 54,
   "metadata": {},
   "outputs": [
    {
     "name": "stdout",
     "output_type": "stream",
     "text": [
      "Starting at AAA, the number of steps required to reach ZZZ =  19667\n"
     ]
    }
   ],
   "source": [
    "import re\n",
    "\n",
    "input_text = open('input.txt', 'r').read()\n",
    "input_text = input_text.split('\\n')\n",
    "node_to_node_dict = {}\n",
    "for line in input_text:\n",
    "    if line == '':\n",
    "        continue\n",
    "    elif len(set(list(line))) == 2:\n",
    "        left_right_instructions = list(line)\n",
    "    elif '=' in line:\n",
    "        nodes = re.findall(r'[A-Z]+', line)\n",
    "        node_to_node_dict[nodes[0]] = [nodes[1], nodes[2]]\n",
    "start_node = 'AAA'\n",
    "end_node = 'ZZZ'\n",
    "current_node = start_node\n",
    "steps = 0\n",
    "while True:\n",
    "    for instruction in left_right_instructions:\n",
    "        if instruction == 'L':\n",
    "            current_node = node_to_node_dict[current_node][0]\n",
    "        elif instruction == 'R':\n",
    "            current_node = node_to_node_dict[current_node][1]\n",
    "        steps += 1\n",
    "        if current_node == end_node:\n",
    "            break\n",
    "    if current_node == end_node:\n",
    "            break\n",
    "print(\"Starting at AAA, the number of steps required to reach ZZZ = \", steps)"
   ]
  },
  {
   "cell_type": "markdown",
   "metadata": {},
   "source": [
    "### --- Part Two ---"
   ]
  },
  {
   "cell_type": "code",
   "execution_count": 59,
   "metadata": {},
   "outputs": [
    {
     "name": "stdout",
     "output_type": "stream",
     "text": [
      "Simultaneously starting on every node that ends with A, the number of steps required to nodes that end with Z =  19185263738117\n"
     ]
    }
   ],
   "source": [
    "from math import gcd\n",
    "\n",
    "start_nodes = []\n",
    "end_nodes = []\n",
    "for node in node_to_node_dict.keys():\n",
    "    if node[2] == 'A':\n",
    "        start_nodes.append(node)\n",
    "    elif node[2] == 'Z':\n",
    "        end_nodes.append(node)\n",
    "node_steps = []\n",
    "for i in range(len(start_nodes)):\n",
    "    start_node = start_nodes[i]\n",
    "    current_node = start_node\n",
    "    steps = 0\n",
    "    while True:\n",
    "        for instruction in left_right_instructions:\n",
    "            if instruction == 'L':\n",
    "                current_node = node_to_node_dict[current_node][0]\n",
    "            elif instruction == 'R':\n",
    "                current_node = node_to_node_dict[current_node][1]\n",
    "            steps += 1\n",
    "            if current_node in end_nodes:\n",
    "                break\n",
    "        if current_node in end_nodes:\n",
    "                break\n",
    "    node_steps.append(steps)\n",
    "# calculate LCM of the list of steps\n",
    "total_steps = 1\n",
    "for steps in node_steps:\n",
    "    total_steps = total_steps*steps//gcd(total_steps, steps)\n",
    "print(\"Simultaneously starting on every node that ends with A, the number of steps required to nodes that end with Z = \", total_steps)"
   ]
  }
 ],
 "metadata": {
  "kernelspec": {
   "display_name": "advent-of-code-2023-40H9lvEx",
   "language": "python",
   "name": "python3"
  },
  "language_info": {
   "codemirror_mode": {
    "name": "ipython",
    "version": 3
   },
   "file_extension": ".py",
   "mimetype": "text/x-python",
   "name": "python",
   "nbconvert_exporter": "python",
   "pygments_lexer": "ipython3",
   "version": "3.10.9"
  }
 },
 "nbformat": 4,
 "nbformat_minor": 2
}
