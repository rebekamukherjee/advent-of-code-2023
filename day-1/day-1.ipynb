{
 "cells": [
  {
   "cell_type": "markdown",
   "metadata": {},
   "source": [
    "### Day 1: Trebuchet?! ---\n",
    "\n",
    "https://adventofcode.com/2023/day/1"
   ]
  },
  {
   "cell_type": "code",
   "execution_count": 1,
   "metadata": {},
   "outputs": [
    {
     "name": "stdout",
     "output_type": "stream",
     "text": [
      "Sum of all of the calibration values =  57346\n"
     ]
    }
   ],
   "source": [
    "import re\n",
    "input_text = open('input.txt', 'r').read()\n",
    "input_text = input_text.split('\\n')\n",
    "calibration_values = []\n",
    "for line in input_text:\n",
    "    all_digits = re.findall(r'\\d', line)\n",
    "    if len(all_digits)==0:\n",
    "        continue\n",
    "    first_and_last_digits = int(all_digits[0] + all_digits[-1])\n",
    "    calibration_values.append(first_and_last_digits)\n",
    "sum_calibration_values = sum(calibration_values)\n",
    "print(\"Sum of all of the calibration values = \", sum_calibration_values)"
   ]
  },
  {
   "cell_type": "markdown",
   "metadata": {},
   "source": [
    "### --- Part Two ---"
   ]
  },
  {
   "cell_type": "code",
   "execution_count": 3,
   "metadata": {},
   "outputs": [
    {
     "name": "stdout",
     "output_type": "stream",
     "text": [
      "Sum of all of the calibration values =  57345\n"
     ]
    }
   ],
   "source": [
    "spelled_digits_dict = {\n",
    "    'one': '1',\n",
    "    'two': '2',\n",
    "    'three': '3',\n",
    "    'four': '4',\n",
    "    'five': '5',\n",
    "    'six': '6',\n",
    "    'seven': '7',\n",
    "    'eight': '8',\n",
    "    'nine': '9',\n",
    "}\n",
    "overlaps_dict = {\n",
    "    'oneight': 'oneeight',\n",
    "    'twone': 'twoone',\n",
    "    'threeight': 'threeeight',\n",
    "    'fiveight': 'fiveeight',\n",
    "    'eightwo': 'eighttwo',\n",
    "    'eighthree': 'eightthree',\n",
    "    'nineight': 'nineeight'\n",
    "}\n",
    "input_text = open('input.txt', 'r').read()\n",
    "input_text = input_text.split('\\n')\n",
    "calibration_values = []\n",
    "for line in input_text:\n",
    "    for key in list(overlaps_dict.keys()):\n",
    "        if key in line:\n",
    "            line = line.replace(key, overlaps_dict[key])\n",
    "    for key in list(spelled_digits_dict.keys()):\n",
    "        if key in line:\n",
    "            line = line.replace(key, spelled_digits_dict[key])\n",
    "    all_digits = re.findall(r'\\d', line)\n",
    "    if len(all_digits)==0:\n",
    "        continue\n",
    "    first_and_last_digits = int(all_digits[0] + all_digits[-1])\n",
    "    calibration_values.append(first_and_last_digits)\n",
    "sum_calibration_values = sum(calibration_values)\n",
    "print(\"Sum of all of the calibration values = \", sum_calibration_values)"
   ]
  }
 ],
 "metadata": {
  "kernelspec": {
   "display_name": "advent-of-code-2023-Nog2JbGz",
   "language": "python",
   "name": "python3"
  },
  "language_info": {
   "codemirror_mode": {
    "name": "ipython",
    "version": 3
   },
   "file_extension": ".py",
   "mimetype": "text/x-python",
   "name": "python",
   "nbconvert_exporter": "python",
   "pygments_lexer": "ipython3",
   "version": "3.10.9"
  }
 },
 "nbformat": 4,
 "nbformat_minor": 2
}
