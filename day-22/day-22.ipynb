{
 "cells": [
  {
   "cell_type": "markdown",
   "metadata": {},
   "source": [
    "### --- Day 22: Sand Slabs ---\n",
    "\n",
    "https://adventofcode.com/2023/day/22"
   ]
  },
  {
   "cell_type": "code",
   "execution_count": 1,
   "metadata": {},
   "outputs": [
    {
     "name": "stdout",
     "output_type": "stream",
     "text": [
      "The number of bricks that could be safely chosen as the one to get disintegrated =  522\n"
     ]
    }
   ],
   "source": [
    "from collections import defaultdict\n",
    "\n",
    "input_text = open('input.txt', 'r').read()\n",
    "input_text = input_text.split('\\n')\n",
    "bricks = []\n",
    "for line in input_text:\n",
    "    if line=='':\n",
    "        continue\n",
    "    bricks.append([\n",
    "        [int(x) for x in line.split('~')[0].split(',')],\n",
    "        [int(x) for x in line.split('~')[1].split(',')]]\n",
    "    )\n",
    "bricks.sort(key=lambda b: b[0][2])\n",
    "space = [[] for _ in range(len(bricks))]\n",
    "unsafe = set()\n",
    "highest = defaultdict(lambda:(0,-1))\n",
    "for i, brick in enumerate(bricks):\n",
    "    s_x, s_y, s_z = brick[0]\n",
    "    e_x, e_y, e_z = brick[1]\n",
    "    supporting = set()\n",
    "    max_height = -1\n",
    "    for x in range(s_x, e_x+1):\n",
    "        for y in range(s_y, e_y+1):\n",
    "            if highest[x, y][0]+1 > max_height:\n",
    "                max_height = highest[x, y][0]+1\n",
    "                supporting = {highest[x, y][1]}\n",
    "            elif highest[x, y][0]+1 == max_height:\n",
    "                supporting.add(highest[x, y][1])\n",
    "    for s in supporting:\n",
    "        if s!=-1:\n",
    "            space[s].append(i)\n",
    "    if len(supporting)==1:\n",
    "        unsafe.add(supporting.pop())\n",
    "    fall = s_z - max_height\n",
    "    if fall>0:\n",
    "        s_z-=fall\n",
    "        e_z-=fall\n",
    "    for x in range(s_x, e_x+1):\n",
    "        for y in range(s_y, e_y+1):\n",
    "            highest[x, y] = (e_z, i)\n",
    "num_safe = len(bricks) - len(unsafe) + 1\n",
    "print (\"The number of bricks that could be safely chosen as the one to get disintegrated = \", num_safe)\n",
    "    "
   ]
  },
  {
   "cell_type": "markdown",
   "metadata": {},
   "source": [
    "### --- Part Two ---"
   ]
  },
  {
   "cell_type": "code",
   "execution_count": 2,
   "metadata": {},
   "outputs": [
    {
     "name": "stdout",
     "output_type": "stream",
     "text": [
      "The sum of the number of other bricks that would fall =  83519\n"
     ]
    }
   ],
   "source": [
    "num_fall = []\n",
    "for i in range(len(space)):\n",
    "    index = [0 for _ in range(len(space))]\n",
    "    for j in range(len(space)):\n",
    "        for k in space[j]:\n",
    "            index[k] += 1\n",
    "    queue = [i]\n",
    "    count = -1\n",
    "    while queue:\n",
    "        count += 1\n",
    "        x = queue.pop()\n",
    "        for k in space[x]:\n",
    "            index[k] -= 1\n",
    "            if index[k] == 0:\n",
    "                queue.append(k)\n",
    "    num_fall.append(count)\n",
    "sum_num_fall = sum(num_fall)\n",
    "print(\"The sum of the number of other bricks that would fall = \", sum_num_fall)"
   ]
  }
 ],
 "metadata": {
  "kernelspec": {
   "display_name": "advent-of-code-2023-urXzIf7u",
   "language": "python",
   "name": "python3"
  },
  "language_info": {
   "codemirror_mode": {
    "name": "ipython",
    "version": 3
   },
   "file_extension": ".py",
   "mimetype": "text/x-python",
   "name": "python",
   "nbconvert_exporter": "python",
   "pygments_lexer": "ipython3",
   "version": "3.12.0"
  }
 },
 "nbformat": 4,
 "nbformat_minor": 2
}
